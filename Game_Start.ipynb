{
 "cells": [
  {
   "cell_type": "code",
   "execution_count": 1,
   "metadata": {
    "ExecuteTime": {
     "end_time": "2019-01-11T07:55:28.444123Z",
     "start_time": "2019-01-11T07:55:28.441688Z"
    },
    "collapsed": true
   },
   "outputs": [],
   "source": [
    "import numpy as np\n",
    "import laser_hockey_env as lh\n",
    "import gym\n",
    "import tensorflow as tf\n",
    "from importlib import reload"
   ]
  },
  {
   "cell_type": "code",
   "execution_count": 2,
   "metadata": {
    "ExecuteTime": {
     "end_time": "2019-01-11T07:55:28.642643Z",
     "start_time": "2019-01-11T07:55:28.639000Z"
    },
    "collapsed": true
   },
   "outputs": [],
   "source": [
    "#np.set_printoptions(suppress=True)\n",
    "np.set_printoptions(threshold = 1e5)"
   ]
  },
  {
   "cell_type": "markdown",
   "metadata": {
    "ExecuteTime": {
     "end_time": "2018-12-20T21:03:35.086427Z",
     "start_time": "2018-12-20T21:03:35.082123Z"
    }
   },
   "source": [
    "# Normal Game Play"
   ]
  },
  {
   "cell_type": "code",
   "execution_count": 3,
   "metadata": {
    "ExecuteTime": {
     "end_time": "2019-01-11T07:55:29.539930Z",
     "start_time": "2019-01-11T07:55:29.525220Z"
    }
   },
   "outputs": [
    {
     "data": {
      "text/plain": [
       "<module 'laser_hockey_env' from 'C:\\\\Users\\\\ThinkPad\\\\Desktop\\\\Informatik\\\\3. Semester\\\\Reinforcement Learning\\\\final project\\\\laser-hockey-env-master\\\\Prioritized_Replay_DQN\\\\laser_hockey_env.py'>"
      ]
     },
     "execution_count": 3,
     "metadata": {},
     "output_type": "execute_result"
    }
   ],
   "source": [
    "reload(lh)"
   ]
  },
  {
   "cell_type": "code",
   "execution_count": 4,
   "metadata": {
    "ExecuteTime": {
     "end_time": "2019-01-11T07:55:29.930674Z",
     "start_time": "2019-01-11T07:55:29.926764Z"
    },
    "collapsed": true
   },
   "outputs": [],
   "source": [
    "env = lh.LaserHockeyEnv(mode=1)"
   ]
  },
  {
   "cell_type": "markdown",
   "metadata": {},
   "source": [
    "have a look at the initialization condition: alternating who starts and are random in puck position"
   ]
  },
  {
   "cell_type": "code",
   "execution_count": 5,
   "metadata": {
    "ExecuteTime": {
     "end_time": "2019-01-11T07:57:12.690181Z",
     "start_time": "2019-01-11T07:57:12.662104Z"
    }
   },
   "outputs": [
    {
     "data": {
      "text/plain": [
       "array([-6.        ,  0.        ,  0.        ,  0.        ,  0.        ,\n",
       "        0.        ,  7.90865898, -0.08248997,  0.        ,  0.        ,\n",
       "        0.        ,  0.        , -3.50483894, -1.03803205,  0.        ,\n",
       "        0.        ])"
      ]
     },
     "execution_count": 5,
     "metadata": {},
     "output_type": "execute_result"
    }
   ],
   "source": [
    "obs = env.reset()\n",
    "#obs_agent2 = env.obs_agent_two()\n",
    "#env.render()\n",
    "obs"
   ]
  },
  {
   "cell_type": "markdown",
   "metadata": {},
   "source": [
    "# Model Recovery Test"
   ]
  },
  {
   "cell_type": "code",
   "execution_count": 5,
   "metadata": {
    "scrolled": true
   },
   "outputs": [
    {
     "name": "stdout",
     "output_type": "stream",
     "text": [
      "INFO:tensorflow:Restoring parameters from PR_DQN_model.ckpt\n",
      "DQN_with_prioritized_replay/s\n",
      "DQN_with_prioritized_replay/Q_target\n",
      "DQN_with_prioritized_replay/IS_weights\n",
      "DQN_with_prioritized_replay/eval_net/l1/w1/Initializer/random_normal/shape\n",
      "DQN_with_prioritized_replay/eval_net/l1/w1/Initializer/random_normal/mean\n",
      "DQN_with_prioritized_replay/eval_net/l1/w1/Initializer/random_normal/stddev\n",
      "DQN_with_prioritized_replay/eval_net/l1/w1/Initializer/random_normal/RandomStandardNormal\n",
      "DQN_with_prioritized_replay/eval_net/l1/w1/Initializer/random_normal/mul\n",
      "DQN_with_prioritized_replay/eval_net/l1/w1/Initializer/random_normal\n",
      "DQN_with_prioritized_replay/eval_net/l1/w1\n",
      "DQN_with_prioritized_replay/eval_net/l1/w1/Assign\n",
      "DQN_with_prioritized_replay/eval_net/l1/w1/read\n",
      "DQN_with_prioritized_replay/eval_net/l1/b1/Initializer/Const\n",
      "DQN_with_prioritized_replay/eval_net/l1/b1\n",
      "DQN_with_prioritized_replay/eval_net/l1/b1/Assign\n",
      "DQN_with_prioritized_replay/eval_net/l1/b1/read\n",
      "DQN_with_prioritized_replay/eval_net/l1/MatMul\n",
      "DQN_with_prioritized_replay/eval_net/l1/add\n",
      "DQN_with_prioritized_replay/eval_net/l1/Tanh\n",
      "DQN_with_prioritized_replay/eval_net/l2/w2/Initializer/random_normal/shape\n",
      "DQN_with_prioritized_replay/eval_net/l2/w2/Initializer/random_normal/mean\n",
      "DQN_with_prioritized_replay/eval_net/l2/w2/Initializer/random_normal/stddev\n",
      "DQN_with_prioritized_replay/eval_net/l2/w2/Initializer/random_normal/RandomStandardNormal\n",
      "DQN_with_prioritized_replay/eval_net/l2/w2/Initializer/random_normal/mul\n",
      "DQN_with_prioritized_replay/eval_net/l2/w2/Initializer/random_normal\n",
      "DQN_with_prioritized_replay/eval_net/l2/w2\n",
      "DQN_with_prioritized_replay/eval_net/l2/w2/Assign\n",
      "DQN_with_prioritized_replay/eval_net/l2/w2/read\n",
      "DQN_with_prioritized_replay/eval_net/l2/b2/Initializer/Const\n",
      "DQN_with_prioritized_replay/eval_net/l2/b2\n",
      "DQN_with_prioritized_replay/eval_net/l2/b2/Assign\n",
      "DQN_with_prioritized_replay/eval_net/l2/b2/read\n",
      "DQN_with_prioritized_replay/eval_net/l2/MatMul\n",
      "DQN_with_prioritized_replay/eval_net/l2/add\n",
      "DQN_with_prioritized_replay/eval_net/l2/Tanh\n",
      "DQN_with_prioritized_replay/eval_net/l3/w3/Initializer/random_normal/shape\n",
      "DQN_with_prioritized_replay/eval_net/l3/w3/Initializer/random_normal/mean\n",
      "DQN_with_prioritized_replay/eval_net/l3/w3/Initializer/random_normal/stddev\n",
      "DQN_with_prioritized_replay/eval_net/l3/w3/Initializer/random_normal/RandomStandardNormal\n",
      "DQN_with_prioritized_replay/eval_net/l3/w3/Initializer/random_normal/mul\n",
      "DQN_with_prioritized_replay/eval_net/l3/w3/Initializer/random_normal\n",
      "DQN_with_prioritized_replay/eval_net/l3/w3\n",
      "DQN_with_prioritized_replay/eval_net/l3/w3/Assign\n",
      "DQN_with_prioritized_replay/eval_net/l3/w3/read\n",
      "DQN_with_prioritized_replay/eval_net/l3/b3/Initializer/Const\n",
      "DQN_with_prioritized_replay/eval_net/l3/b3\n",
      "DQN_with_prioritized_replay/eval_net/l3/b3/Assign\n",
      "DQN_with_prioritized_replay/eval_net/l3/b3/read\n",
      "DQN_with_prioritized_replay/eval_net/l3/MatMul\n",
      "DQN_with_prioritized_replay/eval_net/l3/add\n",
      "DQN_with_prioritized_replay/loss/sub\n",
      "DQN_with_prioritized_replay/loss/Abs\n",
      "DQN_with_prioritized_replay/loss/Sum/reduction_indices\n",
      "DQN_with_prioritized_replay/loss/Sum\n",
      "DQN_with_prioritized_replay/loss/SquaredDifference\n",
      "DQN_with_prioritized_replay/loss/mul\n",
      "DQN_with_prioritized_replay/loss/Const\n",
      "DQN_with_prioritized_replay/loss/Mean\n",
      "DQN_with_prioritized_replay/train/gradients/Shape\n",
      "DQN_with_prioritized_replay/train/gradients/grad_ys_0\n",
      "DQN_with_prioritized_replay/train/gradients/Fill\n",
      "DQN_with_prioritized_replay/train/gradients/DQN_with_prioritized_replay/loss/Mean_grad/Reshape/shape\n",
      "DQN_with_prioritized_replay/train/gradients/DQN_with_prioritized_replay/loss/Mean_grad/Reshape\n",
      "DQN_with_prioritized_replay/train/gradients/DQN_with_prioritized_replay/loss/Mean_grad/Shape\n",
      "DQN_with_prioritized_replay/train/gradients/DQN_with_prioritized_replay/loss/Mean_grad/Tile\n",
      "DQN_with_prioritized_replay/train/gradients/DQN_with_prioritized_replay/loss/Mean_grad/Shape_1\n",
      "DQN_with_prioritized_replay/train/gradients/DQN_with_prioritized_replay/loss/Mean_grad/Shape_2\n",
      "DQN_with_prioritized_replay/train/gradients/DQN_with_prioritized_replay/loss/Mean_grad/Const\n",
      "DQN_with_prioritized_replay/train/gradients/DQN_with_prioritized_replay/loss/Mean_grad/Prod\n",
      "DQN_with_prioritized_replay/train/gradients/DQN_with_prioritized_replay/loss/Mean_grad/Const_1\n",
      "DQN_with_prioritized_replay/train/gradients/DQN_with_prioritized_replay/loss/Mean_grad/Prod_1\n",
      "DQN_with_prioritized_replay/train/gradients/DQN_with_prioritized_replay/loss/Mean_grad/Maximum/y\n",
      "DQN_with_prioritized_replay/train/gradients/DQN_with_prioritized_replay/loss/Mean_grad/Maximum\n",
      "DQN_with_prioritized_replay/train/gradients/DQN_with_prioritized_replay/loss/Mean_grad/floordiv\n",
      "DQN_with_prioritized_replay/train/gradients/DQN_with_prioritized_replay/loss/Mean_grad/Cast\n",
      "DQN_with_prioritized_replay/train/gradients/DQN_with_prioritized_replay/loss/Mean_grad/truediv\n",
      "DQN_with_prioritized_replay/train/gradients/DQN_with_prioritized_replay/loss/mul_grad/Shape\n",
      "DQN_with_prioritized_replay/train/gradients/DQN_with_prioritized_replay/loss/mul_grad/Shape_1\n",
      "DQN_with_prioritized_replay/train/gradients/DQN_with_prioritized_replay/loss/mul_grad/BroadcastGradientArgs\n",
      "DQN_with_prioritized_replay/train/gradients/DQN_with_prioritized_replay/loss/mul_grad/Mul\n",
      "DQN_with_prioritized_replay/train/gradients/DQN_with_prioritized_replay/loss/mul_grad/Sum\n",
      "DQN_with_prioritized_replay/train/gradients/DQN_with_prioritized_replay/loss/mul_grad/Reshape\n",
      "DQN_with_prioritized_replay/train/gradients/DQN_with_prioritized_replay/loss/mul_grad/Mul_1\n",
      "DQN_with_prioritized_replay/train/gradients/DQN_with_prioritized_replay/loss/mul_grad/Sum_1\n",
      "DQN_with_prioritized_replay/train/gradients/DQN_with_prioritized_replay/loss/mul_grad/Reshape_1\n",
      "DQN_with_prioritized_replay/train/gradients/DQN_with_prioritized_replay/loss/mul_grad/tuple/group_deps\n",
      "DQN_with_prioritized_replay/train/gradients/DQN_with_prioritized_replay/loss/mul_grad/tuple/control_dependency\n",
      "DQN_with_prioritized_replay/train/gradients/DQN_with_prioritized_replay/loss/mul_grad/tuple/control_dependency_1\n",
      "DQN_with_prioritized_replay/train/gradients/DQN_with_prioritized_replay/loss/SquaredDifference_grad/Shape\n",
      "DQN_with_prioritized_replay/train/gradients/DQN_with_prioritized_replay/loss/SquaredDifference_grad/Shape_1\n",
      "DQN_with_prioritized_replay/train/gradients/DQN_with_prioritized_replay/loss/SquaredDifference_grad/BroadcastGradientArgs\n",
      "DQN_with_prioritized_replay/train/gradients/DQN_with_prioritized_replay/loss/SquaredDifference_grad/scalar\n",
      "DQN_with_prioritized_replay/train/gradients/DQN_with_prioritized_replay/loss/SquaredDifference_grad/mul\n",
      "DQN_with_prioritized_replay/train/gradients/DQN_with_prioritized_replay/loss/SquaredDifference_grad/sub\n",
      "DQN_with_prioritized_replay/train/gradients/DQN_with_prioritized_replay/loss/SquaredDifference_grad/mul_1\n",
      "DQN_with_prioritized_replay/train/gradients/DQN_with_prioritized_replay/loss/SquaredDifference_grad/Sum\n",
      "DQN_with_prioritized_replay/train/gradients/DQN_with_prioritized_replay/loss/SquaredDifference_grad/Reshape\n",
      "DQN_with_prioritized_replay/train/gradients/DQN_with_prioritized_replay/loss/SquaredDifference_grad/Sum_1\n",
      "DQN_with_prioritized_replay/train/gradients/DQN_with_prioritized_replay/loss/SquaredDifference_grad/Reshape_1\n",
      "DQN_with_prioritized_replay/train/gradients/DQN_with_prioritized_replay/loss/SquaredDifference_grad/Neg\n",
      "DQN_with_prioritized_replay/train/gradients/DQN_with_prioritized_replay/loss/SquaredDifference_grad/tuple/group_deps\n",
      "DQN_with_prioritized_replay/train/gradients/DQN_with_prioritized_replay/loss/SquaredDifference_grad/tuple/control_dependency\n",
      "DQN_with_prioritized_replay/train/gradients/DQN_with_prioritized_replay/loss/SquaredDifference_grad/tuple/control_dependency_1\n",
      "DQN_with_prioritized_replay/train/gradients/DQN_with_prioritized_replay/eval_net/l3/add_grad/Shape\n",
      "DQN_with_prioritized_replay/train/gradients/DQN_with_prioritized_replay/eval_net/l3/add_grad/Shape_1\n",
      "DQN_with_prioritized_replay/train/gradients/DQN_with_prioritized_replay/eval_net/l3/add_grad/BroadcastGradientArgs\n",
      "DQN_with_prioritized_replay/train/gradients/DQN_with_prioritized_replay/eval_net/l3/add_grad/Sum\n",
      "DQN_with_prioritized_replay/train/gradients/DQN_with_prioritized_replay/eval_net/l3/add_grad/Reshape\n",
      "DQN_with_prioritized_replay/train/gradients/DQN_with_prioritized_replay/eval_net/l3/add_grad/Sum_1\n",
      "DQN_with_prioritized_replay/train/gradients/DQN_with_prioritized_replay/eval_net/l3/add_grad/Reshape_1\n",
      "DQN_with_prioritized_replay/train/gradients/DQN_with_prioritized_replay/eval_net/l3/add_grad/tuple/group_deps\n",
      "DQN_with_prioritized_replay/train/gradients/DQN_with_prioritized_replay/eval_net/l3/add_grad/tuple/control_dependency\n",
      "DQN_with_prioritized_replay/train/gradients/DQN_with_prioritized_replay/eval_net/l3/add_grad/tuple/control_dependency_1\n",
      "DQN_with_prioritized_replay/train/gradients/DQN_with_prioritized_replay/eval_net/l3/MatMul_grad/MatMul\n",
      "DQN_with_prioritized_replay/train/gradients/DQN_with_prioritized_replay/eval_net/l3/MatMul_grad/MatMul_1\n",
      "DQN_with_prioritized_replay/train/gradients/DQN_with_prioritized_replay/eval_net/l3/MatMul_grad/tuple/group_deps\n",
      "DQN_with_prioritized_replay/train/gradients/DQN_with_prioritized_replay/eval_net/l3/MatMul_grad/tuple/control_dependency\n",
      "DQN_with_prioritized_replay/train/gradients/DQN_with_prioritized_replay/eval_net/l3/MatMul_grad/tuple/control_dependency_1\n",
      "DQN_with_prioritized_replay/train/gradients/DQN_with_prioritized_replay/eval_net/l2/Tanh_grad/TanhGrad\n",
      "DQN_with_prioritized_replay/train/gradients/DQN_with_prioritized_replay/eval_net/l2/add_grad/Shape\n",
      "DQN_with_prioritized_replay/train/gradients/DQN_with_prioritized_replay/eval_net/l2/add_grad/Shape_1\n",
      "DQN_with_prioritized_replay/train/gradients/DQN_with_prioritized_replay/eval_net/l2/add_grad/BroadcastGradientArgs\n",
      "DQN_with_prioritized_replay/train/gradients/DQN_with_prioritized_replay/eval_net/l2/add_grad/Sum\n",
      "DQN_with_prioritized_replay/train/gradients/DQN_with_prioritized_replay/eval_net/l2/add_grad/Reshape\n",
      "DQN_with_prioritized_replay/train/gradients/DQN_with_prioritized_replay/eval_net/l2/add_grad/Sum_1\n",
      "DQN_with_prioritized_replay/train/gradients/DQN_with_prioritized_replay/eval_net/l2/add_grad/Reshape_1\n",
      "DQN_with_prioritized_replay/train/gradients/DQN_with_prioritized_replay/eval_net/l2/add_grad/tuple/group_deps\n",
      "DQN_with_prioritized_replay/train/gradients/DQN_with_prioritized_replay/eval_net/l2/add_grad/tuple/control_dependency\n",
      "DQN_with_prioritized_replay/train/gradients/DQN_with_prioritized_replay/eval_net/l2/add_grad/tuple/control_dependency_1\n",
      "DQN_with_prioritized_replay/train/gradients/DQN_with_prioritized_replay/eval_net/l2/MatMul_grad/MatMul\n",
      "DQN_with_prioritized_replay/train/gradients/DQN_with_prioritized_replay/eval_net/l2/MatMul_grad/MatMul_1\n",
      "DQN_with_prioritized_replay/train/gradients/DQN_with_prioritized_replay/eval_net/l2/MatMul_grad/tuple/group_deps\n",
      "DQN_with_prioritized_replay/train/gradients/DQN_with_prioritized_replay/eval_net/l2/MatMul_grad/tuple/control_dependency\n",
      "DQN_with_prioritized_replay/train/gradients/DQN_with_prioritized_replay/eval_net/l2/MatMul_grad/tuple/control_dependency_1\n",
      "DQN_with_prioritized_replay/train/gradients/DQN_with_prioritized_replay/eval_net/l1/Tanh_grad/TanhGrad\n",
      "DQN_with_prioritized_replay/train/gradients/DQN_with_prioritized_replay/eval_net/l1/add_grad/Shape\n",
      "DQN_with_prioritized_replay/train/gradients/DQN_with_prioritized_replay/eval_net/l1/add_grad/Shape_1\n",
      "DQN_with_prioritized_replay/train/gradients/DQN_with_prioritized_replay/eval_net/l1/add_grad/BroadcastGradientArgs\n",
      "DQN_with_prioritized_replay/train/gradients/DQN_with_prioritized_replay/eval_net/l1/add_grad/Sum\n",
      "DQN_with_prioritized_replay/train/gradients/DQN_with_prioritized_replay/eval_net/l1/add_grad/Reshape\n",
      "DQN_with_prioritized_replay/train/gradients/DQN_with_prioritized_replay/eval_net/l1/add_grad/Sum_1\n",
      "DQN_with_prioritized_replay/train/gradients/DQN_with_prioritized_replay/eval_net/l1/add_grad/Reshape_1\n",
      "DQN_with_prioritized_replay/train/gradients/DQN_with_prioritized_replay/eval_net/l1/add_grad/tuple/group_deps\n",
      "DQN_with_prioritized_replay/train/gradients/DQN_with_prioritized_replay/eval_net/l1/add_grad/tuple/control_dependency\n",
      "DQN_with_prioritized_replay/train/gradients/DQN_with_prioritized_replay/eval_net/l1/add_grad/tuple/control_dependency_1\n",
      "DQN_with_prioritized_replay/train/gradients/DQN_with_prioritized_replay/eval_net/l1/MatMul_grad/MatMul\n",
      "DQN_with_prioritized_replay/train/gradients/DQN_with_prioritized_replay/eval_net/l1/MatMul_grad/MatMul_1\n",
      "DQN_with_prioritized_replay/train/gradients/DQN_with_prioritized_replay/eval_net/l1/MatMul_grad/tuple/group_deps\n",
      "DQN_with_prioritized_replay/train/gradients/DQN_with_prioritized_replay/eval_net/l1/MatMul_grad/tuple/control_dependency\n",
      "DQN_with_prioritized_replay/train/gradients/DQN_with_prioritized_replay/eval_net/l1/MatMul_grad/tuple/control_dependency_1\n",
      "DQN_with_prioritized_replay/train/DQN_with_prioritized_replay/eval_net/l1/w1/RMSProp/Initializer/ones/shape_as_tensor\n",
      "DQN_with_prioritized_replay/train/DQN_with_prioritized_replay/eval_net/l1/w1/RMSProp/Initializer/ones/Const\n",
      "DQN_with_prioritized_replay/train/DQN_with_prioritized_replay/eval_net/l1/w1/RMSProp/Initializer/ones\n",
      "DQN_with_prioritized_replay/train/DQN_with_prioritized_replay/eval_net/l1/w1/RMSProp\n",
      "DQN_with_prioritized_replay/train/DQN_with_prioritized_replay/eval_net/l1/w1/RMSProp/Assign\n",
      "DQN_with_prioritized_replay/train/DQN_with_prioritized_replay/eval_net/l1/w1/RMSProp/read\n",
      "DQN_with_prioritized_replay/train/DQN_with_prioritized_replay/eval_net/l1/w1/RMSProp_1/Initializer/zeros/shape_as_tensor\n",
      "DQN_with_prioritized_replay/train/DQN_with_prioritized_replay/eval_net/l1/w1/RMSProp_1/Initializer/zeros/Const\n",
      "DQN_with_prioritized_replay/train/DQN_with_prioritized_replay/eval_net/l1/w1/RMSProp_1/Initializer/zeros\n",
      "DQN_with_prioritized_replay/train/DQN_with_prioritized_replay/eval_net/l1/w1/RMSProp_1\n",
      "DQN_with_prioritized_replay/train/DQN_with_prioritized_replay/eval_net/l1/w1/RMSProp_1/Assign\n",
      "DQN_with_prioritized_replay/train/DQN_with_prioritized_replay/eval_net/l1/w1/RMSProp_1/read\n",
      "DQN_with_prioritized_replay/train/DQN_with_prioritized_replay/eval_net/l1/b1/RMSProp/Initializer/ones\n",
      "DQN_with_prioritized_replay/train/DQN_with_prioritized_replay/eval_net/l1/b1/RMSProp\n",
      "DQN_with_prioritized_replay/train/DQN_with_prioritized_replay/eval_net/l1/b1/RMSProp/Assign\n",
      "DQN_with_prioritized_replay/train/DQN_with_prioritized_replay/eval_net/l1/b1/RMSProp/read\n",
      "DQN_with_prioritized_replay/train/DQN_with_prioritized_replay/eval_net/l1/b1/RMSProp_1/Initializer/zeros\n",
      "DQN_with_prioritized_replay/train/DQN_with_prioritized_replay/eval_net/l1/b1/RMSProp_1\n",
      "DQN_with_prioritized_replay/train/DQN_with_prioritized_replay/eval_net/l1/b1/RMSProp_1/Assign\n",
      "DQN_with_prioritized_replay/train/DQN_with_prioritized_replay/eval_net/l1/b1/RMSProp_1/read\n",
      "DQN_with_prioritized_replay/train/DQN_with_prioritized_replay/eval_net/l2/w2/RMSProp/Initializer/ones/shape_as_tensor\n",
      "DQN_with_prioritized_replay/train/DQN_with_prioritized_replay/eval_net/l2/w2/RMSProp/Initializer/ones/Const\n",
      "DQN_with_prioritized_replay/train/DQN_with_prioritized_replay/eval_net/l2/w2/RMSProp/Initializer/ones\n",
      "DQN_with_prioritized_replay/train/DQN_with_prioritized_replay/eval_net/l2/w2/RMSProp\n",
      "DQN_with_prioritized_replay/train/DQN_with_prioritized_replay/eval_net/l2/w2/RMSProp/Assign\n",
      "DQN_with_prioritized_replay/train/DQN_with_prioritized_replay/eval_net/l2/w2/RMSProp/read\n",
      "DQN_with_prioritized_replay/train/DQN_with_prioritized_replay/eval_net/l2/w2/RMSProp_1/Initializer/zeros/shape_as_tensor\n",
      "DQN_with_prioritized_replay/train/DQN_with_prioritized_replay/eval_net/l2/w2/RMSProp_1/Initializer/zeros/Const\n",
      "DQN_with_prioritized_replay/train/DQN_with_prioritized_replay/eval_net/l2/w2/RMSProp_1/Initializer/zeros\n",
      "DQN_with_prioritized_replay/train/DQN_with_prioritized_replay/eval_net/l2/w2/RMSProp_1\n",
      "DQN_with_prioritized_replay/train/DQN_with_prioritized_replay/eval_net/l2/w2/RMSProp_1/Assign\n",
      "DQN_with_prioritized_replay/train/DQN_with_prioritized_replay/eval_net/l2/w2/RMSProp_1/read\n",
      "DQN_with_prioritized_replay/train/DQN_with_prioritized_replay/eval_net/l2/b2/RMSProp/Initializer/ones\n",
      "DQN_with_prioritized_replay/train/DQN_with_prioritized_replay/eval_net/l2/b2/RMSProp\n",
      "DQN_with_prioritized_replay/train/DQN_with_prioritized_replay/eval_net/l2/b2/RMSProp/Assign\n",
      "DQN_with_prioritized_replay/train/DQN_with_prioritized_replay/eval_net/l2/b2/RMSProp/read\n",
      "DQN_with_prioritized_replay/train/DQN_with_prioritized_replay/eval_net/l2/b2/RMSProp_1/Initializer/zeros\n",
      "DQN_with_prioritized_replay/train/DQN_with_prioritized_replay/eval_net/l2/b2/RMSProp_1\n",
      "DQN_with_prioritized_replay/train/DQN_with_prioritized_replay/eval_net/l2/b2/RMSProp_1/Assign\n",
      "DQN_with_prioritized_replay/train/DQN_with_prioritized_replay/eval_net/l2/b2/RMSProp_1/read\n",
      "DQN_with_prioritized_replay/train/DQN_with_prioritized_replay/eval_net/l3/w3/RMSProp/Initializer/ones\n",
      "DQN_with_prioritized_replay/train/DQN_with_prioritized_replay/eval_net/l3/w3/RMSProp\n",
      "DQN_with_prioritized_replay/train/DQN_with_prioritized_replay/eval_net/l3/w3/RMSProp/Assign\n",
      "DQN_with_prioritized_replay/train/DQN_with_prioritized_replay/eval_net/l3/w3/RMSProp/read\n",
      "DQN_with_prioritized_replay/train/DQN_with_prioritized_replay/eval_net/l3/w3/RMSProp_1/Initializer/zeros\n",
      "DQN_with_prioritized_replay/train/DQN_with_prioritized_replay/eval_net/l3/w3/RMSProp_1\n",
      "DQN_with_prioritized_replay/train/DQN_with_prioritized_replay/eval_net/l3/w3/RMSProp_1/Assign\n",
      "DQN_with_prioritized_replay/train/DQN_with_prioritized_replay/eval_net/l3/w3/RMSProp_1/read\n",
      "DQN_with_prioritized_replay/train/DQN_with_prioritized_replay/eval_net/l3/b3/RMSProp/Initializer/ones\n",
      "DQN_with_prioritized_replay/train/DQN_with_prioritized_replay/eval_net/l3/b3/RMSProp\n",
      "DQN_with_prioritized_replay/train/DQN_with_prioritized_replay/eval_net/l3/b3/RMSProp/Assign\n",
      "DQN_with_prioritized_replay/train/DQN_with_prioritized_replay/eval_net/l3/b3/RMSProp/read\n",
      "DQN_with_prioritized_replay/train/DQN_with_prioritized_replay/eval_net/l3/b3/RMSProp_1/Initializer/zeros\n",
      "DQN_with_prioritized_replay/train/DQN_with_prioritized_replay/eval_net/l3/b3/RMSProp_1\n",
      "DQN_with_prioritized_replay/train/DQN_with_prioritized_replay/eval_net/l3/b3/RMSProp_1/Assign\n",
      "DQN_with_prioritized_replay/train/DQN_with_prioritized_replay/eval_net/l3/b3/RMSProp_1/read\n",
      "DQN_with_prioritized_replay/train/RMSProp/learning_rate\n",
      "DQN_with_prioritized_replay/train/RMSProp/decay\n",
      "DQN_with_prioritized_replay/train/RMSProp/momentum\n",
      "DQN_with_prioritized_replay/train/RMSProp/epsilon\n",
      "DQN_with_prioritized_replay/train/RMSProp/update_DQN_with_prioritized_replay/eval_net/l1/w1/ApplyRMSProp\n",
      "DQN_with_prioritized_replay/train/RMSProp/update_DQN_with_prioritized_replay/eval_net/l1/b1/ApplyRMSProp\n",
      "DQN_with_prioritized_replay/train/RMSProp/update_DQN_with_prioritized_replay/eval_net/l2/w2/ApplyRMSProp\n",
      "DQN_with_prioritized_replay/train/RMSProp/update_DQN_with_prioritized_replay/eval_net/l2/b2/ApplyRMSProp\n",
      "DQN_with_prioritized_replay/train/RMSProp/update_DQN_with_prioritized_replay/eval_net/l3/w3/ApplyRMSProp\n",
      "DQN_with_prioritized_replay/train/RMSProp/update_DQN_with_prioritized_replay/eval_net/l3/b3/ApplyRMSProp\n",
      "DQN_with_prioritized_replay/train/RMSProp\n",
      "DQN_with_prioritized_replay/s_\n",
      "DQN_with_prioritized_replay/target_net/l1/w1/Initializer/random_normal/shape\n",
      "DQN_with_prioritized_replay/target_net/l1/w1/Initializer/random_normal/mean\n",
      "DQN_with_prioritized_replay/target_net/l1/w1/Initializer/random_normal/stddev\n",
      "DQN_with_prioritized_replay/target_net/l1/w1/Initializer/random_normal/RandomStandardNormal\n",
      "DQN_with_prioritized_replay/target_net/l1/w1/Initializer/random_normal/mul\n",
      "DQN_with_prioritized_replay/target_net/l1/w1/Initializer/random_normal\n",
      "DQN_with_prioritized_replay/target_net/l1/w1\n",
      "DQN_with_prioritized_replay/target_net/l1/w1/Assign\n",
      "DQN_with_prioritized_replay/target_net/l1/w1/read\n",
      "DQN_with_prioritized_replay/target_net/l1/b1/Initializer/Const\n",
      "DQN_with_prioritized_replay/target_net/l1/b1\n",
      "DQN_with_prioritized_replay/target_net/l1/b1/Assign\n",
      "DQN_with_prioritized_replay/target_net/l1/b1/read\n",
      "DQN_with_prioritized_replay/target_net/l1/MatMul\n",
      "DQN_with_prioritized_replay/target_net/l1/add\n",
      "DQN_with_prioritized_replay/target_net/l1/Tanh\n",
      "DQN_with_prioritized_replay/target_net/l2/w2/Initializer/random_normal/shape\n",
      "DQN_with_prioritized_replay/target_net/l2/w2/Initializer/random_normal/mean\n",
      "DQN_with_prioritized_replay/target_net/l2/w2/Initializer/random_normal/stddev\n",
      "DQN_with_prioritized_replay/target_net/l2/w2/Initializer/random_normal/RandomStandardNormal\n",
      "DQN_with_prioritized_replay/target_net/l2/w2/Initializer/random_normal/mul\n",
      "DQN_with_prioritized_replay/target_net/l2/w2/Initializer/random_normal\n",
      "DQN_with_prioritized_replay/target_net/l2/w2\n",
      "DQN_with_prioritized_replay/target_net/l2/w2/Assign\n",
      "DQN_with_prioritized_replay/target_net/l2/w2/read\n",
      "DQN_with_prioritized_replay/target_net/l2/b2/Initializer/Const\n",
      "DQN_with_prioritized_replay/target_net/l2/b2\n",
      "DQN_with_prioritized_replay/target_net/l2/b2/Assign\n",
      "DQN_with_prioritized_replay/target_net/l2/b2/read\n",
      "DQN_with_prioritized_replay/target_net/l2/MatMul\n",
      "DQN_with_prioritized_replay/target_net/l2/add\n",
      "DQN_with_prioritized_replay/target_net/l2/Tanh\n",
      "DQN_with_prioritized_replay/target_net/l3/w3/Initializer/random_normal/shape\n",
      "DQN_with_prioritized_replay/target_net/l3/w3/Initializer/random_normal/mean\n",
      "DQN_with_prioritized_replay/target_net/l3/w3/Initializer/random_normal/stddev\n",
      "DQN_with_prioritized_replay/target_net/l3/w3/Initializer/random_normal/RandomStandardNormal\n",
      "DQN_with_prioritized_replay/target_net/l3/w3/Initializer/random_normal/mul\n",
      "DQN_with_prioritized_replay/target_net/l3/w3/Initializer/random_normal\n",
      "DQN_with_prioritized_replay/target_net/l3/w3\n",
      "DQN_with_prioritized_replay/target_net/l3/w3/Assign\n",
      "DQN_with_prioritized_replay/target_net/l3/w3/read\n",
      "DQN_with_prioritized_replay/target_net/l3/b3/Initializer/Const\n",
      "DQN_with_prioritized_replay/target_net/l3/b3\n",
      "DQN_with_prioritized_replay/target_net/l3/b3/Assign\n",
      "DQN_with_prioritized_replay/target_net/l3/b3/read\n",
      "DQN_with_prioritized_replay/target_net/l3/MatMul\n",
      "DQN_with_prioritized_replay/target_net/l3/add\n",
      "DQN_with_prioritized_replay/Assign\n",
      "DQN_with_prioritized_replay/Assign_1\n",
      "DQN_with_prioritized_replay/Assign_2\n",
      "DQN_with_prioritized_replay/Assign_3\n",
      "DQN_with_prioritized_replay/Assign_4\n",
      "DQN_with_prioritized_replay/Assign_5\n",
      "init\n",
      "save/Const\n",
      "save/SaveV2/tensor_names\n",
      "save/SaveV2/shape_and_slices\n",
      "save/SaveV2\n",
      "save/control_dependency\n",
      "save/RestoreV2/tensor_names\n",
      "save/RestoreV2/shape_and_slices\n",
      "save/RestoreV2\n",
      "save/Assign\n",
      "save/Assign_1\n",
      "save/Assign_2\n",
      "save/Assign_3\n",
      "save/Assign_4\n",
      "save/Assign_5\n",
      "save/Assign_6\n",
      "save/Assign_7\n",
      "save/Assign_8\n",
      "save/Assign_9\n",
      "save/Assign_10\n",
      "save/Assign_11\n",
      "save/Assign_12\n",
      "save/Assign_13\n",
      "save/Assign_14\n",
      "save/Assign_15\n",
      "save/Assign_16\n",
      "save/Assign_17\n",
      "save/Assign_18\n",
      "save/Assign_19\n",
      "save/Assign_20\n",
      "save/Assign_21\n",
      "save/Assign_22\n",
      "save/Assign_23\n",
      "save/restore_all\n",
      "Tensor(\"DQN_with_prioritized_replay/eval_net/l3/add:0\", shape=(?, 8), dtype=float32)\n",
      "Tensor(\"DQN_with_prioritized_replay/s:0\", shape=(?, 16), dtype=float32)\n"
     ]
    }
   ],
   "source": [
    "with tf.Session() as sess:    \n",
    "    saver = tf.train.import_meta_graph('PR_DQN_model.ckpt.meta')\n",
    "    saver.restore(sess, 'PR_DQN_model.ckpt')\n",
    "    #saver.restore(sess, tf.train.latest_checkpoint('./'))\n",
    "    graph = tf.get_default_graph()\n",
    "    \n",
    "    for op in graph.get_operations():\n",
    "        print(op.name)\n",
    "    \n",
    "    #Qs = tf.get_collection('pred_Qs')[0]\n",
    "    pred = graph.get_operation_by_name('DQN_with_prioritized_replay/eval_net/l3/add').outputs[0]\n",
    "    print(pred)\n",
    "    #Qs = graph.get_tensor_by_name('DQNAgent/Q_target/dense_1/kernel:0')\n",
    "    \n",
    "    #state = tf.get_collection('s')\n",
    "    \n",
    "    state = graph.get_operation_by_name('DQN_with_prioritized_replay/s').outputs[0]\n",
    "    print(state)"
   ]
  },
  {
   "cell_type": "markdown",
   "metadata": {},
   "source": [
    "# For PR_DQN Agents"
   ]
  },
  {
   "cell_type": "code",
   "execution_count": 8,
   "metadata": {
    "ExecuteTime": {
     "end_time": "2019-01-11T07:55:29.930674Z",
     "start_time": "2019-01-11T07:55:29.926764Z"
    },
    "collapsed": true
   },
   "outputs": [],
   "source": [
    "reload(lh)\n",
    "env = lh.LaserHockeyEnv(mode=0)"
   ]
  },
  {
   "cell_type": "code",
   "execution_count": null,
   "metadata": {
    "scrolled": true
   },
   "outputs": [
    {
     "name": "stdout",
     "output_type": "stream",
     "text": [
      "INFO:tensorflow:Restoring parameters from PR_DQN_model.ckpt\n",
      "Human Controls:\n",
      " left:\t\t\tleft arrow key left\n",
      " right:\t\t\tarrow key right\n",
      " up:\t\t\tarrow key up\n",
      " down:\t\t\tarrow key down\n",
      " tilt clockwise:\tw\n",
      " tilt anti-clockwise:\ts\n",
      "Player 1 scored\n",
      "Player 2 scored\n",
      "Player 2 scored\n",
      "Player 2 scored\n",
      "Player 1 scored\n",
      "Player 2 scored\n",
      "Player 2 scored\n",
      "Player 1 scored\n",
      "Player 2 scored\n",
      "Player 1 scored\n",
      "Player 2 scored\n",
      "Player 2 scored\n",
      "Player 2 scored\n",
      "Player 2 scored\n",
      "Player 1 scored\n",
      "Player 1 scored\n",
      "Player 1 scored\n",
      "Player 2 scored\n",
      "Player 2 scored\n",
      "Player 1 scored\n",
      "Player 2 scored\n",
      "Player 1 scored\n",
      "Player 2 scored\n",
      "Player 2 scored\n",
      "Player 2 scored\n",
      "Player 2 scored\n",
      "Player 2 scored\n",
      "Player 2 scored\n",
      "Player 1 scored\n",
      "Player 1 scored\n",
      "Player 2 scored\n",
      "Player 2 scored\n",
      "Player 2 scored\n",
      "Player 2 scored\n",
      "Player 2 scored\n",
      "Player 1 scored\n",
      "Player 2 scored\n",
      "Player 2 scored\n",
      "Player 2 scored\n",
      "Player 2 scored\n",
      "Player 2 scored\n",
      "Player 1 scored\n",
      "Player 1 scored\n",
      "Player 1 scored\n",
      "Player 2 scored\n",
      "Player 1 scored\n",
      "Player 2 scored\n",
      "Player 2 scored\n",
      "Player 2 scored\n",
      "Player 2 scored\n",
      "Player 1 scored\n",
      "Player 2 scored\n",
      "Player 1 scored\n",
      "Player 1 scored\n",
      "Player 2 scored\n",
      "Player 1 scored\n",
      "Player 1 scored\n",
      "Player 1 scored\n",
      "Player 1 scored\n",
      "Player 2 scored\n",
      "Player 1 scored\n",
      "Player 2 scored\n",
      "Player 2 scored\n",
      "Player 2 scored\n",
      "Player 2 scored\n",
      "Player 1 scored\n",
      "Player 2 scored\n",
      "Player 1 scored\n",
      "Player 1 scored\n",
      "Player 2 scored\n",
      "Player 2 scored\n",
      "Player 1 scored\n",
      "Player 1 scored\n",
      "Player 2 scored\n",
      "Player 2 scored\n",
      "Player 2 scored\n",
      "Player 2 scored\n",
      "Player 1 scored\n",
      "Player 2 scored\n",
      "Player 1 scored\n",
      "Player 1 scored\n",
      "Player 2 scored\n",
      "Player 1 scored\n",
      "Player 2 scored\n",
      "Player 2 scored\n",
      "Player 2 scored\n",
      "Player 1 scored\n",
      "Player 1 scored\n",
      "Player 1 scored\n",
      "Player 1 scored\n",
      "Player 2 scored\n",
      "Player 2 scored\n",
      "Player 2 scored\n",
      "Player 2 scored\n",
      "Player 1 scored\n",
      "Player 2 scored\n",
      "Player 1 scored\n",
      "Player 1 scored\n",
      "Player 2 scored\n",
      "Player 2 scored\n",
      "Player 1 scored\n",
      "Player 2 scored\n",
      "Player 2 scored\n",
      "Player 1 scored\n",
      "Player 2 scored\n",
      "Player 2 scored\n",
      "Player 2 scored\n",
      "Player 2 scored\n",
      "Player 1 scored\n",
      "Player 2 scored\n",
      "Player 2 scored\n",
      "Player 1 scored\n",
      "Player 2 scored\n",
      "Player 2 scored\n",
      "Player 2 scored\n",
      "Player 1 scored\n",
      "Player 1 scored\n",
      "Player 1 scored\n",
      "Player 2 scored\n",
      "Player 1 scored\n",
      "Player 2 scored\n",
      "Player 1 scored\n",
      "Player 2 scored\n",
      "Player 2 scored\n",
      "Player 1 scored\n",
      "Player 1 scored\n",
      "Player 1 scored\n",
      "Player 2 scored\n",
      "Player 1 scored\n",
      "Player 1 scored\n",
      "Player 1 scored\n",
      "Player 1 scored\n",
      "Player 2 scored\n",
      "Player 2 scored\n",
      "Player 1 scored\n",
      "Player 2 scored\n",
      "Player 1 scored\n",
      "Player 2 scored\n",
      "Player 2 scored\n",
      "Player 1 scored\n",
      "Player 1 scored\n",
      "Player 1 scored\n",
      "Player 2 scored\n",
      "Player 1 scored\n",
      "Player 2 scored\n",
      "Player 2 scored\n",
      "Player 1 scored\n",
      "Player 2 scored\n",
      "Player 2 scored\n",
      "Player 2 scored\n",
      "Player 1 scored\n",
      "Player 2 scored\n",
      "Player 1 scored\n",
      "Player 1 scored\n",
      "Player 2 scored\n",
      "Player 1 scored\n",
      "Player 1 scored\n",
      "Player 2 scored\n",
      "Player 2 scored\n",
      "Player 1 scored\n",
      "Player 2 scored\n",
      "Player 2 scored\n",
      "Player 2 scored\n",
      "Player 2 scored\n",
      "Player 2 scored\n",
      "Player 1 scored\n",
      "Player 1 scored\n",
      "Player 2 scored\n",
      "Player 2 scored\n",
      "Player 2 scored\n",
      "Player 2 scored\n",
      "Player 1 scored\n",
      "Player 1 scored\n",
      "Player 2 scored\n",
      "Player 1 scored\n",
      "Player 2 scored\n",
      "Player 2 scored\n",
      "Player 1 scored\n"
     ]
    }
   ],
   "source": [
    "AGAINST_HUMAN = False\n",
    "with tf.Session() as sess:    \n",
    "    saver = tf.train.import_meta_graph('PR_DQN_model.ckpt.meta')\n",
    "    saver.restore(sess, 'PR_DQN_model.ckpt')\n",
    "    #saver.restore(sess, tf.train.latest_checkpoint('./'))\n",
    "    graph = tf.get_default_graph()\n",
    "    \n",
    "    playerHuman = lh.HumanOpponent(env=env, player=2)\n",
    "    playerComputer = lh.BasicOpponent()\n",
    "    \n",
    "    pred = graph.get_operation_by_name('DQN_with_prioritized_replay/target_net/l3/add').outputs[0]    \n",
    "    state = graph.get_operation_by_name('DQN_with_prioritized_replay/s_').outputs[0]\n",
    "    \n",
    "    win = 0\n",
    "    die = 0\n",
    "    loss = 0\n",
    "    round1 = 1000\n",
    "    for _ in range(round1):\n",
    "        s = env.reset()\n",
    "        for _ in range(500):\n",
    "            reward = 0\n",
    "            env.render()\n",
    "            qs = np.argmax(sess.run(pred, {state: np.asarray(s).reshape(-1,16)}))\n",
    "            a1 = env.discrete_to_continous_action(qs)\n",
    "            if AGAINST_HUMAN:\n",
    "                a2 = playerHuman.act(env.obs_agent_two())\n",
    "            else:\n",
    "                a2 = playerComputer.act(env.obs_agent_two())    \n",
    "            obs, r, d, info = env.step(np.hstack([a1,a2]))\n",
    "            s = obs\n",
    "            reward += r\n",
    "            #print (info)\n",
    "            if d:\n",
    "                winner = info['winner']\n",
    "                if winner == 1:\n",
    "                    win += 1\n",
    "                elif winner == 0:\n",
    "                    die += 1\n",
    "                else:\n",
    "                    loss += 1\n",
    "                break\n",
    "\n",
    "        #print ('total points: ', reward)\n",
    "    print('win rate in test:', win / (round1))\n",
    "    print('die rate in test:',die/ (round1))\n",
    "    print('loss rate in test:',loss/(round1))\n",
    "env.close()#"
   ]
  },
  {
   "cell_type": "code",
   "execution_count": 24,
   "metadata": {
    "collapsed": true
   },
   "outputs": [],
   "source": [
    "env.close()"
   ]
  },
  {
   "cell_type": "markdown",
   "metadata": {
    "ExecuteTime": {
     "end_time": "2019-01-11T07:57:48.631793Z",
     "start_time": "2019-01-11T07:57:48.627528Z"
    }
   },
   "source": [
    "\"info\" dict contains useful proxy rewards and winning information"
   ]
  },
  {
   "cell_type": "markdown",
   "metadata": {
    "ExecuteTime": {
     "end_time": "2019-01-11T07:59:24.867441Z",
     "start_time": "2019-01-11T07:59:24.862324Z"
    }
   },
   "source": [
    "Winner == 0: draw\n",
    "\n",
    "Winner == 1: you (left player)\n",
    "\n",
    "Winner == -1: opponent wins (right player)"
   ]
  },
  {
   "cell_type": "markdown",
   "metadata": {
    "ExecuteTime": {
     "end_time": "2018-12-20T20:37:41.013424Z",
     "start_time": "2018-12-20T20:37:41.009298Z"
    }
   },
   "source": [
    "# Hand-crafted Opponent"
   ]
  },
  {
   "cell_type": "code",
   "execution_count": 166,
   "metadata": {
    "ExecuteTime": {
     "end_time": "2019-01-11T08:01:33.837983Z",
     "start_time": "2019-01-11T08:01:33.831404Z"
    }
   },
   "outputs": [
    {
     "data": {
      "text/plain": [
       "<module 'laser_hockey_env' from 'C:\\\\Users\\\\ThinkPad\\\\Desktop\\\\Informatik\\\\3. Semester\\\\Reinforcement Learning\\\\final project\\\\laser-hockey-env-master\\\\laser_hockey_env.py'>"
      ]
     },
     "execution_count": 166,
     "metadata": {},
     "output_type": "execute_result"
    }
   ],
   "source": [
    "reload(lh)"
   ]
  },
  {
   "cell_type": "code",
   "execution_count": 167,
   "metadata": {
    "ExecuteTime": {
     "end_time": "2019-01-11T08:01:45.035969Z",
     "start_time": "2019-01-11T08:01:45.032057Z"
    },
    "collapsed": true
   },
   "outputs": [],
   "source": [
    "env = lh.LaserHockeyEnv()"
   ]
  },
  {
   "cell_type": "code",
   "execution_count": 43,
   "metadata": {
    "ExecuteTime": {
     "end_time": "2019-01-11T08:01:45.572163Z",
     "start_time": "2019-01-11T08:01:45.504321Z"
    },
    "collapsed": true
   },
   "outputs": [],
   "source": [
    "o = env.reset()\n",
    "env.render()"
   ]
  },
  {
   "cell_type": "code",
   "execution_count": 169,
   "metadata": {
    "ExecuteTime": {
     "end_time": "2019-01-11T08:01:49.157281Z",
     "start_time": "2019-01-11T08:01:49.152424Z"
    },
    "collapsed": true
   },
   "outputs": [],
   "source": [
    "player1 = lh.BasicOpponent()\n",
    "player2 = lh.BasicOpponent()"
   ]
  },
  {
   "cell_type": "code",
   "execution_count": 170,
   "metadata": {
    "ExecuteTime": {
     "end_time": "2019-01-11T08:01:52.268233Z",
     "start_time": "2019-01-11T08:01:52.264406Z"
    },
    "collapsed": true
   },
   "outputs": [],
   "source": [
    "obs_buffer = []"
   ]
  },
  {
   "cell_type": "code",
   "execution_count": 190,
   "metadata": {
    "ExecuteTime": {
     "end_time": "2019-01-11T08:04:40.694729Z",
     "start_time": "2019-01-11T08:04:32.333471Z"
    },
    "collapsed": true
   },
   "outputs": [],
   "source": [
    "obs = env.reset()\n",
    "obs_agent2 = env.obs_agent_two()\n",
    "for _ in range(6000):\n",
    "    env.render()\n",
    "    a1 = player1.act(obs)\n",
    "    a2 = player2.act(obs_agent2)\n",
    "    obs, r, d, info = env.step(np.hstack([a1,a2]))    \n",
    "    obs_buffer.append(obs)\n",
    "    obs_agent2 = env.obs_agent_two()\n",
    "    if d: break"
   ]
  },
  {
   "cell_type": "code",
   "execution_count": 36,
   "metadata": {
    "ExecuteTime": {
     "end_time": "2018-12-28T12:27:58.824246Z",
     "start_time": "2018-12-28T12:27:58.813103Z"
    },
    "collapsed": true
   },
   "outputs": [],
   "source": [
    "obs_buffer = np.asarray(obs_buffer)"
   ]
  },
  {
   "cell_type": "code",
   "execution_count": 37,
   "metadata": {
    "ExecuteTime": {
     "end_time": "2018-12-28T12:28:17.864363Z",
     "start_time": "2018-12-28T12:28:17.847595Z"
    }
   },
   "outputs": [
    {
     "data": {
      "text/plain": [
       "array([-5.60615518, -0.93944872,  0.02153415, -0.15174563, -0.21507722,\n",
       "       -0.01274596,  6.03210314, -0.91700226, -0.0435948 ,  0.08250999,\n",
       "       -0.45369915, -0.01376339,  0.03930392, -1.95906703,  0.34407332,\n",
       "       -0.42500431])"
      ]
     },
     "execution_count": 37,
     "metadata": {},
     "output_type": "execute_result"
    }
   ],
   "source": [
    "np.mean(obs_buffer,axis=0)"
   ]
  },
  {
   "cell_type": "code",
   "execution_count": 38,
   "metadata": {
    "ExecuteTime": {
     "end_time": "2018-12-28T12:28:31.513942Z",
     "start_time": "2018-12-28T12:28:31.499813Z"
    }
   },
   "outputs": [
    {
     "data": {
      "text/plain": [
       "array([ 1.9823213 ,  1.70992644,  0.17918739,  3.50116077,  5.45221764,\n",
       "        0.79510197,  1.89944108,  1.53295154,  0.17746532,  3.52693113,\n",
       "        5.35313172,  0.81996932,  3.81635594,  2.37721153, 15.28987793,\n",
       "        4.71857464])"
      ]
     },
     "execution_count": 38,
     "metadata": {},
     "output_type": "execute_result"
    }
   ],
   "source": [
    "np.std(obs_buffer,axis=0)"
   ]
  },
  {
   "cell_type": "code",
   "execution_count": 39,
   "metadata": {
    "collapsed": true
   },
   "outputs": [],
   "source": [
    "scaling = [ 1.0,  1.0 , 3.14, 4.0, 4.0, 2.0,  \n",
    "            1.0,  1.0,  3.14, 4.0, 4.0, 2.0,  \n",
    "            2.0, 2.0, 10.0, 10.0]"
   ]
  },
  {
   "cell_type": "markdown",
   "metadata": {},
   "source": [
    "# Human Opponent"
   ]
  },
  {
   "cell_type": "code",
   "execution_count": 40,
   "metadata": {
    "ExecuteTime": {
     "end_time": "2019-01-11T08:06:22.038375Z",
     "start_time": "2019-01-11T08:06:22.035338Z"
    },
    "collapsed": true
   },
   "outputs": [],
   "source": [
    "import time"
   ]
  },
  {
   "cell_type": "code",
   "execution_count": 41,
   "metadata": {
    "ExecuteTime": {
     "end_time": "2019-01-11T08:05:10.184886Z",
     "start_time": "2019-01-11T08:05:10.180414Z"
    },
    "collapsed": true
   },
   "outputs": [],
   "source": [
    "env = lh.LaserHockeyEnv()"
   ]
  },
  {
   "cell_type": "code",
   "execution_count": 42,
   "metadata": {
    "ExecuteTime": {
     "end_time": "2019-01-11T08:05:17.339971Z",
     "start_time": "2019-01-11T08:05:17.276199Z"
    }
   },
   "outputs": [
    {
     "data": {
      "text/plain": [
       "True"
      ]
     },
     "execution_count": 42,
     "metadata": {},
     "output_type": "execute_result"
    }
   ],
   "source": [
    "o = env.reset()\n",
    "env.render()"
   ]
  },
  {
   "cell_type": "code",
   "execution_count": 43,
   "metadata": {
    "ExecuteTime": {
     "end_time": "2019-01-11T08:05:26.969723Z",
     "start_time": "2019-01-11T08:05:26.966375Z"
    }
   },
   "outputs": [
    {
     "name": "stdout",
     "output_type": "stream",
     "text": [
      "Human Controls:\n",
      " left:\t\t\tleft arrow key left\n",
      " right:\t\t\tarrow key right\n",
      " up:\t\t\tarrow key up\n",
      " down:\t\t\tarrow key down\n",
      " tilt clockwise:\tw\n",
      " tilt anti-clockwise:\ts\n"
     ]
    }
   ],
   "source": [
    "player1 = lh.HumanOpponent(env=env, player=1)\n",
    "player2 = lh.BasicOpponent()"
   ]
  },
  {
   "cell_type": "code",
   "execution_count": 50,
   "metadata": {
    "ExecuteTime": {
     "end_time": "2019-01-11T08:06:26.444905Z",
     "start_time": "2019-01-11T08:06:23.849965Z"
    },
    "scrolled": false
   },
   "outputs": [
    {
     "name": "stdout",
     "output_type": "stream",
     "text": [
      "{'winner': 0, 'reward_closeness_to_puck': -0.0036225496896808897, 'reward_touch_puck': 0.0, 'reward_puck_direction': 0.0}\n",
      "{'winner': 0, 'reward_closeness_to_puck': -0.0036225496896808897, 'reward_touch_puck': 0.0, 'reward_puck_direction': 0.0}\n",
      "{'winner': 0, 'reward_closeness_to_puck': -0.0036225496896808897, 'reward_touch_puck': 0.0, 'reward_puck_direction': 0.0}\n",
      "{'winner': 0, 'reward_closeness_to_puck': -0.0036225496896808897, 'reward_touch_puck': 0.0, 'reward_puck_direction': 0.0}\n",
      "{'winner': 0, 'reward_closeness_to_puck': -0.0036225496896808897, 'reward_touch_puck': 0.0, 'reward_puck_direction': 0.0}\n",
      "{'winner': 0, 'reward_closeness_to_puck': -0.0036225496896808897, 'reward_touch_puck': 0.0, 'reward_puck_direction': 0.0}\n",
      "{'winner': 0, 'reward_closeness_to_puck': -0.0036225496896808897, 'reward_touch_puck': 0.0, 'reward_puck_direction': 0.0}\n",
      "{'winner': 0, 'reward_closeness_to_puck': -0.0036225496896808897, 'reward_touch_puck': 0.0, 'reward_puck_direction': 0.0}\n",
      "{'winner': 0, 'reward_closeness_to_puck': -0.0036225496896808897, 'reward_touch_puck': 0.0, 'reward_puck_direction': 0.0}\n",
      "{'winner': 0, 'reward_closeness_to_puck': -0.0036225496896808897, 'reward_touch_puck': 0.0, 'reward_puck_direction': 0.0}\n",
      "{'winner': 0, 'reward_closeness_to_puck': -0.0036225496896808897, 'reward_touch_puck': 0.0, 'reward_puck_direction': 0.0}\n",
      "{'winner': 0, 'reward_closeness_to_puck': -0.0036225496896808897, 'reward_touch_puck': 0.0, 'reward_puck_direction': 0.0}\n",
      "{'winner': 0, 'reward_closeness_to_puck': -0.0036225496896808897, 'reward_touch_puck': 0.0, 'reward_puck_direction': 0.0}\n",
      "{'winner': 0, 'reward_closeness_to_puck': -0.0036225496896808897, 'reward_touch_puck': 0.0, 'reward_puck_direction': 0.0}\n",
      "{'winner': 0, 'reward_closeness_to_puck': -0.0036225496896808897, 'reward_touch_puck': 0.0, 'reward_puck_direction': 0.0}\n",
      "{'winner': 0, 'reward_closeness_to_puck': -0.0036225496896808897, 'reward_touch_puck': 0.0, 'reward_puck_direction': 0.0}\n",
      "{'winner': 0, 'reward_closeness_to_puck': -0.0036225496896808897, 'reward_touch_puck': 0.0, 'reward_puck_direction': 0.0}\n",
      "{'winner': 0, 'reward_closeness_to_puck': -0.0036225496896808897, 'reward_touch_puck': 0.0, 'reward_puck_direction': 0.0}\n",
      "{'winner': 0, 'reward_closeness_to_puck': -0.0036225496896808897, 'reward_touch_puck': 0.0, 'reward_puck_direction': 0.0}\n",
      "{'winner': 0, 'reward_closeness_to_puck': -0.0036225496896808897, 'reward_touch_puck': 0.0, 'reward_puck_direction': 0.0}\n",
      "{'winner': 0, 'reward_closeness_to_puck': -0.0036225496896808897, 'reward_touch_puck': 0.0, 'reward_puck_direction': 0.0}\n",
      "{'winner': 0, 'reward_closeness_to_puck': -0.0036225496896808897, 'reward_touch_puck': 0.0, 'reward_puck_direction': 0.0}\n",
      "{'winner': 0, 'reward_closeness_to_puck': -0.0036225496896808897, 'reward_touch_puck': 0.0, 'reward_puck_direction': 0.0}\n",
      "{'winner': 0, 'reward_closeness_to_puck': -0.0036225496896808897, 'reward_touch_puck': 0.0, 'reward_puck_direction': 0.0}\n",
      "{'winner': 0, 'reward_closeness_to_puck': -0.0036225496896808897, 'reward_touch_puck': 0.0, 'reward_puck_direction': 0.0}\n",
      "{'winner': 0, 'reward_closeness_to_puck': -0.0036225496896808897, 'reward_touch_puck': 0.0, 'reward_puck_direction': 0.0}\n",
      "{'winner': 0, 'reward_closeness_to_puck': -0.0036225496896808897, 'reward_touch_puck': 0.0, 'reward_puck_direction': 0.0}\n",
      "{'winner': 0, 'reward_closeness_to_puck': -0.0036225496896808897, 'reward_touch_puck': 0.0, 'reward_puck_direction': 0.0}\n",
      "{'winner': 0, 'reward_closeness_to_puck': -0.0036225496896808897, 'reward_touch_puck': 0.0, 'reward_puck_direction': 0.0}\n",
      "{'winner': 0, 'reward_closeness_to_puck': -0.0036225496896808897, 'reward_touch_puck': 0.0, 'reward_puck_direction': 0.0}\n",
      "{'winner': 0, 'reward_closeness_to_puck': -0.0036225496896808897, 'reward_touch_puck': 0.0, 'reward_puck_direction': 0.0}\n",
      "{'winner': 0, 'reward_closeness_to_puck': -0.0036225496896808897, 'reward_touch_puck': 0.0, 'reward_puck_direction': 0.0}\n",
      "{'winner': 0, 'reward_closeness_to_puck': -0.0036225496896808897, 'reward_touch_puck': 0.0, 'reward_puck_direction': 0.0}\n",
      "{'winner': 0, 'reward_closeness_to_puck': -0.0036225496896808897, 'reward_touch_puck': 0.0, 'reward_puck_direction': 0.0}\n",
      "{'winner': 0, 'reward_closeness_to_puck': -0.0036225496896808897, 'reward_touch_puck': 0.0, 'reward_puck_direction': 0.0}\n",
      "{'winner': 0, 'reward_closeness_to_puck': -0.0036225496896808897, 'reward_touch_puck': 0.0, 'reward_puck_direction': 0.0}\n",
      "{'winner': 0, 'reward_closeness_to_puck': -0.0036225496896808897, 'reward_touch_puck': 0.0, 'reward_puck_direction': 0.0}\n",
      "{'winner': 0, 'reward_closeness_to_puck': -0.0036225496896808897, 'reward_touch_puck': 0.0, 'reward_puck_direction': 0.0}\n",
      "{'winner': 0, 'reward_closeness_to_puck': -0.0036225496896808897, 'reward_touch_puck': 0.0, 'reward_puck_direction': 0.0}\n",
      "{'winner': 0, 'reward_closeness_to_puck': -0.0036225496896808897, 'reward_touch_puck': 0.0, 'reward_puck_direction': 0.0}\n",
      "{'winner': 0, 'reward_closeness_to_puck': -0.0036225496896808897, 'reward_touch_puck': 0.0, 'reward_puck_direction': 0.0}\n",
      "{'winner': 0, 'reward_closeness_to_puck': -0.0036225496896808897, 'reward_touch_puck': 0.0, 'reward_puck_direction': 0.0}\n",
      "{'winner': 0, 'reward_closeness_to_puck': -0.0036225496896808897, 'reward_touch_puck': 0.0, 'reward_puck_direction': 0.0}\n",
      "{'winner': 0, 'reward_closeness_to_puck': -0.0036225496896808897, 'reward_touch_puck': 0.0, 'reward_puck_direction': 0.0}\n",
      "{'winner': 0, 'reward_closeness_to_puck': -0.0036225496896808897, 'reward_touch_puck': 0.0, 'reward_puck_direction': 0.0}\n",
      "{'winner': 0, 'reward_closeness_to_puck': -0.0036225496896808897, 'reward_touch_puck': 0.0, 'reward_puck_direction': 0.0}\n",
      "{'winner': 0, 'reward_closeness_to_puck': -0.0036225496896808897, 'reward_touch_puck': 0.0, 'reward_puck_direction': 0.0}\n",
      "{'winner': 0, 'reward_closeness_to_puck': -0.0036225496896808897, 'reward_touch_puck': 0.0, 'reward_puck_direction': 0.0}\n",
      "{'winner': 0, 'reward_closeness_to_puck': -0.0036225496896808897, 'reward_touch_puck': 0.0, 'reward_puck_direction': 0.0}\n",
      "{'winner': 0, 'reward_closeness_to_puck': -0.0036225496896808897, 'reward_touch_puck': 0.0, 'reward_puck_direction': 0.0}\n",
      "{'winner': 0, 'reward_closeness_to_puck': -0.0036225496896808897, 'reward_touch_puck': 0.0, 'reward_puck_direction': 0.0}\n",
      "{'winner': 0, 'reward_closeness_to_puck': -0.0036225496896808897, 'reward_touch_puck': 0.0, 'reward_puck_direction': 0.0}\n",
      "{'winner': 0, 'reward_closeness_to_puck': -0.0036225496896808897, 'reward_touch_puck': 0.0, 'reward_puck_direction': 0.0}\n",
      "{'winner': 0, 'reward_closeness_to_puck': -0.003609801810132278, 'reward_touch_puck': 0.0, 'reward_puck_direction': 0.0}\n",
      "{'winner': 0, 'reward_closeness_to_puck': -0.0035846386779316065, 'reward_touch_puck': 0.0, 'reward_puck_direction': 0.0}\n",
      "{'winner': 0, 'reward_closeness_to_puck': -0.0035474646624036772, 'reward_touch_puck': 0.0, 'reward_puck_direction': 0.0}\n",
      "{'winner': 0, 'reward_closeness_to_puck': -0.0034987603620854585, 'reward_touch_puck': 0.0, 'reward_puck_direction': 0.0}\n",
      "{'winner': 0, 'reward_closeness_to_puck': -0.003439087542509382, 'reward_touch_puck': 0.0, 'reward_puck_direction': 0.0}\n",
      "{'winner': 0, 'reward_closeness_to_puck': -0.003369102476074109, 'reward_touch_puck': 0.0, 'reward_puck_direction': 0.0}\n",
      "{'winner': 0, 'reward_closeness_to_puck': -0.003289573154186, 'reward_touch_puck': 0.0, 'reward_puck_direction': 0.0}\n",
      "{'winner': 0, 'reward_closeness_to_puck': -0.0032014030010946155, 'reward_touch_puck': 0.0, 'reward_puck_direction': 0.0}\n",
      "{'winner': 0, 'reward_closeness_to_puck': -0.0031056632445014523, 'reward_touch_puck': 0.0, 'reward_puck_direction': 0.0}\n",
      "{'winner': 0, 'reward_closeness_to_puck': -0.00300363232440302, 'reward_touch_puck': 0.0, 'reward_puck_direction': 0.0}\n",
      "{'winner': 0, 'reward_closeness_to_puck': -0.002896851210815753, 'reward_touch_puck': 0.0, 'reward_puck_direction': 0.0}\n",
      "{'winner': 0, 'reward_closeness_to_puck': -0.002784550502590214, 'reward_touch_puck': 0.0, 'reward_puck_direction': 0.0}\n",
      "{'winner': 0, 'reward_closeness_to_puck': -0.0026659783122165923, 'reward_touch_puck': 0.0, 'reward_puck_direction': 0.0}\n",
      "{'winner': 0, 'reward_closeness_to_puck': -0.002540503701298476, 'reward_touch_puck': 0.0, 'reward_puck_direction': 0.0}\n",
      "{'winner': 0, 'reward_closeness_to_puck': -0.002407605377161063, 'reward_touch_puck': 0.0, 'reward_puck_direction': 0.0}\n",
      "{'winner': 0, 'reward_closeness_to_puck': -0.002266863351942867, 'reward_touch_puck': 0.0, 'reward_puck_direction': 0.0}\n",
      "{'winner': 0, 'reward_closeness_to_puck': -0.0021179603063207373, 'reward_touch_puck': 0.0, 'reward_puck_direction': 0.0}\n",
      "{'winner': 0, 'reward_closeness_to_puck': -0.001960675590500514, 'reward_touch_puck': 0.0, 'reward_puck_direction': 0.0}\n",
      "{'winner': 0, 'reward_closeness_to_puck': -0.0017948976253794851, 'reward_touch_puck': 0.0, 'reward_puck_direction': 0.0}\n",
      "{'winner': 0, 'reward_closeness_to_puck': -0.0016206458104516752, 'reward_touch_puck': 0.0, 'reward_puck_direction': 0.0}\n",
      "{'winner': 0, 'reward_closeness_to_puck': -0.0014381181348618274, 'reward_touch_puck': 0.0, 'reward_puck_direction': 0.0}\n",
      "{'winner': 0, 'reward_closeness_to_puck': -0.0012478047499708067, 'reward_touch_puck': 0.0, 'reward_puck_direction': 0.0}\n",
      "{'winner': 0, 'reward_closeness_to_puck': -0.0010507472268437425, 'reward_touch_puck': 0.0, 'reward_puck_direction': 0.0}\n",
      "{'winner': 0, 'reward_closeness_to_puck': -0.0008492007364323706, 'reward_touch_puck': 0.0, 'reward_puck_direction': 0.0}\n"
     ]
    },
    {
     "name": "stdout",
     "output_type": "stream",
     "text": [
      "{'winner': 0, 'reward_closeness_to_puck': -0.0010327091614482367, 'reward_touch_puck': 1.0, 'reward_puck_direction': 0.0009404952049255371}\n",
      "{'winner': 0, 'reward_closeness_to_puck': -0.0012102154815832168, 'reward_touch_puck': 0.0, 'reward_puck_direction': 0.0009395546913146973}\n",
      "{'winner': 0, 'reward_closeness_to_puck': -0.0013790704436083335, 'reward_touch_puck': 0.0, 'reward_puck_direction': 0.0009386151313781739}\n",
      "{'winner': 0, 'reward_closeness_to_puck': -0.001538090714723554, 'reward_touch_puck': 0.0, 'reward_puck_direction': 0.0009376765251159668}\n",
      "{'winner': 0, 'reward_closeness_to_puck': -0.0016867431120614713, 'reward_touch_puck': 0.0, 'reward_puck_direction': 0.0009367388725280763}\n",
      "{'winner': 0, 'reward_closeness_to_puck': -0.0018248189827129897, 'reward_touch_puck': 0.0, 'reward_puck_direction': 0.000935802173614502}\n",
      "{'winner': 0, 'reward_closeness_to_puck': -0.0019522789615913014, 'reward_touch_puck': 0.0, 'reward_puck_direction': 0.0009348664283752441}\n",
      "{'winner': 0, 'reward_closeness_to_puck': -0.0020691850670249055, 'reward_touch_puck': 0.0, 'reward_puck_direction': 0.0009339315414428712}\n",
      "{'winner': 0, 'reward_closeness_to_puck': -0.002175653013771726, 'reward_touch_puck': 0.0, 'reward_puck_direction': 0.0009329976081848145}\n",
      "{'winner': 0, 'reward_closeness_to_puck': -0.0022718399943163973, 'reward_touch_puck': 0.0, 'reward_puck_direction': 0.0009320646286010742}\n",
      "{'winner': 0, 'reward_closeness_to_puck': -0.0023579254225437885, 'reward_touch_puck': 0.0, 'reward_puck_direction': 0.0009311326026916505}\n",
      "{'winner': 0, 'reward_closeness_to_puck': -0.002434104577538833, 'reward_touch_puck': 0.0, 'reward_puck_direction': 0.0009302014350891114}\n",
      "{'winner': 0, 'reward_closeness_to_puck': -0.0025106286968764827, 'reward_touch_puck': 0.0, 'reward_puck_direction': 0.0009292712211608887}\n",
      "{'winner': 0, 'reward_closeness_to_puck': -0.00258707135817543, 'reward_touch_puck': 0.0, 'reward_puck_direction': 0.0009283419609069825}\n",
      "{'winner': 0, 'reward_closeness_to_puck': -0.0026634449221801244, 'reward_touch_puck': 0.0, 'reward_puck_direction': 0.0009274136543273926}\n",
      "{'winner': 0, 'reward_closeness_to_puck': -0.0027401141351113554, 'reward_touch_puck': 0.0, 'reward_puck_direction': 0.0009264862060546875}\n",
      "{'winner': 0, 'reward_closeness_to_puck': -0.0028177234389592655, 'reward_touch_puck': 0.0, 'reward_puck_direction': 0.0009255597114562989}\n",
      "{'winner': 0, 'reward_closeness_to_puck': -0.0028971358485576247, 'reward_touch_puck': 0.0, 'reward_puck_direction': 0.0009246341705322266}\n",
      "{'winner': 0, 'reward_closeness_to_puck': -0.002979383999918873, 'reward_touch_puck': 0.0, 'reward_puck_direction': 0.0009237095832824707}\n",
      "{'winner': 0, 'reward_closeness_to_puck': -0.0030656188723498998, 'reward_touch_puck': 0.0, 'reward_puck_direction': 0.0009227858543395997}\n",
      "{'winner': 0, 'reward_closeness_to_puck': -0.0031570693615593417, 'reward_touch_puck': 0.0, 'reward_puck_direction': 0.0009218630790710449}\n",
      "{'winner': 0, 'reward_closeness_to_puck': -0.0032549936425585687, 'reward_touch_puck': 0.0, 'reward_puck_direction': 0.0009209412574768067}\n",
      "{'winner': 0, 'reward_closeness_to_puck': -0.0033606447607979575, 'reward_touch_puck': 0.0, 'reward_puck_direction': 0.0009200202941894532}\n",
      "{'winner': 0, 'reward_closeness_to_puck': -0.0034752275667713013, 'reward_touch_puck': 0.0, 'reward_puck_direction': 0.0009191002845764161}\n",
      "{'winner': 0, 'reward_closeness_to_puck': -0.0035998704961423015, 'reward_touch_puck': 0.0, 'reward_puck_direction': 0.0009181812286376954}\n",
      "{'winner': 0, 'reward_closeness_to_puck': -0.0026837574872741045, 'reward_touch_puck': 0.0, 'reward_puck_direction': -0.001728278923034668}\n",
      "{'winner': 0, 'reward_closeness_to_puck': -0.0018170955940093126, 'reward_touch_puck': 0.0, 'reward_puck_direction': -0.0017265506744384767}\n",
      "{'winner': 0, 'reward_closeness_to_puck': -0.0011165863842585847, 'reward_touch_puck': 0.0, 'reward_puck_direction': -0.0017248241424560548}\n",
      "{'winner': 0, 'reward_closeness_to_puck': -0.001883799685232861, 'reward_touch_puck': 1.0, 'reward_puck_direction': 0.0025042673110961915}\n",
      "{'winner': 0, 'reward_closeness_to_puck': -0.0025176804067354214, 'reward_touch_puck': 0.0, 'reward_puck_direction': 0.002003413963317871}\n",
      "{'winner': 0, 'reward_closeness_to_puck': -0.0020262407783505527, 'reward_touch_puck': 0.0, 'reward_puck_direction': -0.0012531281471252441}\n",
      "{'winner': 0, 'reward_closeness_to_puck': -0.001697042144192595, 'reward_touch_puck': 0.0, 'reward_puck_direction': -0.0012518750190734864}\n",
      "{'winner': 0, 'reward_closeness_to_puck': -0.0016298204886439124, 'reward_touch_puck': 0.0, 'reward_puck_direction': -0.00125062313079834}\n",
      "{'winner': 0, 'reward_closeness_to_puck': -0.0021516615390876027, 'reward_touch_puck': 1.0, 'reward_puck_direction': 0.00012367769479751587}\n",
      "{'winner': 0, 'reward_closeness_to_puck': -0.0026950894989921747, 'reward_touch_puck': 0.0, 'reward_puck_direction': 0.00012355401515960694}\n",
      "{'winner': 0, 'reward_closeness_to_puck': -0.0032546734075568217, 'reward_touch_puck': 0.0, 'reward_puck_direction': 0.00012343046665191652}\n",
      "{'winner': 0, 'reward_closeness_to_puck': -0.003827954161961983, 'reward_touch_puck': 0.0, 'reward_puck_direction': 0.00012330703735351564}\n",
      "{'winner': 0, 'reward_closeness_to_puck': -0.00441365038453089, 'reward_touch_puck': 0.0, 'reward_puck_direction': 0.00012318372726440431}\n",
      "{'winner': 0, 'reward_closeness_to_puck': -0.005011016920630644, 'reward_touch_puck': 0.0, 'reward_puck_direction': 0.00012306054830551149}\n",
      "{'winner': 0, 'reward_closeness_to_puck': -0.005619575943684524, 'reward_touch_puck': 0.0, 'reward_puck_direction': 0.0001229374885559082}\n",
      "{'winner': 0, 'reward_closeness_to_puck': -0.006238998982575223, 'reward_touch_puck': 0.0, 'reward_puck_direction': 0.0001228145480155945}\n",
      "{'winner': 0, 'reward_closeness_to_puck': -0.006869032377145802, 'reward_touch_puck': 0.0, 'reward_puck_direction': 0.00012269173860549927}\n",
      "{'winner': 0, 'reward_closeness_to_puck': -0.00750947678913453, 'reward_touch_puck': 0.0, 'reward_puck_direction': 0.0001225690484046936}\n",
      "{'winner': 0, 'reward_closeness_to_puck': -0.008160159429726354, 'reward_touch_puck': 0.0, 'reward_puck_direction': 0.0001224464774131775}\n",
      "{'winner': 0, 'reward_closeness_to_puck': -0.008820925397606403, 'reward_touch_puck': 0.0, 'reward_puck_direction': 0.0001223240375518799}\n",
      "{'winner': 0, 'reward_closeness_to_puck': -0.00949162758715638, 'reward_touch_puck': 0.0, 'reward_puck_direction': 0.00012220171689987183}\n",
      "{'winner': 0, 'reward_closeness_to_puck': -0.010172121348846668, 'reward_touch_puck': 0.0, 'reward_puck_direction': 0.00012207951545715331}\n",
      "{'winner': 0, 'reward_closeness_to_puck': -0.01084626835040037, 'reward_touch_puck': 0.0, 'reward_puck_direction': 0.00012195743322372438}\n",
      "{'winner': 0, 'reward_closeness_to_puck': -0.011514242588731134, 'reward_touch_puck': 0.0, 'reward_puck_direction': 0.00012183548212051392}\n",
      "{'winner': 0, 'reward_closeness_to_puck': -0.012176208466186295, 'reward_touch_puck': 0.0, 'reward_puck_direction': 0.00012171365022659302}\n",
      "{'winner': 0, 'reward_closeness_to_puck': -0.012832320417641862, 'reward_touch_puck': 0.0, 'reward_puck_direction': 0.00012159193754196168}\n",
      "{'winner': 0, 'reward_closeness_to_puck': -0.013481652495793932, 'reward_touch_puck': 0.0, 'reward_puck_direction': 0.00012147034406661988}\n",
      "{'winner': 0, 'reward_closeness_to_puck': -0.013698735364253825, 'reward_touch_puck': 0.0, 'reward_puck_direction': 0.00018415250778198243}\n",
      "{'winner': 0, 'reward_closeness_to_puck': -0.0137154912538562, 'reward_touch_puck': 0.0, 'reward_puck_direction': 0.0001839683532714844}\n",
      "{'winner': 0, 'reward_closeness_to_puck': -0.013726758351748978, 'reward_touch_puck': 0.0, 'reward_puck_direction': 0.00018378438949584962}\n",
      "{'winner': 0, 'reward_closeness_to_puck': -0.013732842218113016, 'reward_touch_puck': 0.0, 'reward_puck_direction': 0.00018360060453414918}\n",
      "{'winner': 0, 'reward_closeness_to_puck': -0.013734082633505106, 'reward_touch_puck': 0.0, 'reward_puck_direction': 0.00018341701030731203}\n",
      "{'winner': 0, 'reward_closeness_to_puck': -0.013730853822988833, 'reward_touch_puck': 0.0, 'reward_puck_direction': 0.0001832335948944092}\n",
      "{'winner': 0, 'reward_closeness_to_puck': -0.013723555694016995, 'reward_touch_puck': 0.0, 'reward_puck_direction': 0.00018305035829544068}\n",
      "{'winner': 0, 'reward_closeness_to_puck': -0.013712617101755037, 'reward_touch_puck': 0.0, 'reward_puck_direction': 0.00018286731243133546}\n",
      "{'winner': 0, 'reward_closeness_to_puck': -0.013698491820844117, 'reward_touch_puck': 0.0, 'reward_puck_direction': 0.00018268444538116455}\n",
      "{'winner': 0, 'reward_closeness_to_puck': -0.013665593521991981, 'reward_touch_puck': 0.0, 'reward_puck_direction': 0.00018250176906585693}\n",
      "{'winner': 0, 'reward_closeness_to_puck': -0.013614197656396225, 'reward_touch_puck': 0.0, 'reward_puck_direction': 0.00018231927156448364}\n",
      "{'winner': 0, 'reward_closeness_to_puck': -0.013544575616301634, 'reward_touch_puck': 0.0, 'reward_puck_direction': 0.0001821369528770447}\n",
      "{'winner': 0, 'reward_closeness_to_puck': -0.013456994384105801, 'reward_touch_puck': 0.0, 'reward_puck_direction': 0.00018195481300354005}\n",
      "{'winner': 0, 'reward_closeness_to_puck': -0.01335172579012115, 'reward_touch_puck': 0.0, 'reward_puck_direction': 0.0001817728638648987}\n"
     ]
    },
    {
     "name": "stdout",
     "output_type": "stream",
     "text": [
      "{'winner': 0, 'reward_closeness_to_puck': -0.013229034050107138, 'reward_touch_puck': 0.0, 'reward_puck_direction': 0.00018159109354019167}\n",
      "{'winner': 0, 'reward_closeness_to_puck': -0.013089186761756494, 'reward_touch_puck': 0.0, 'reward_puck_direction': 0.00018140950202941896}\n",
      "{'winner': 0, 'reward_closeness_to_puck': -0.01293245544043022, 'reward_touch_puck': 0.0, 'reward_puck_direction': 0.00018122808933258058}\n",
      "{'winner': 0, 'reward_closeness_to_puck': -0.012759112071614965, 'reward_touch_puck': 0.0, 'reward_puck_direction': 0.0001810468673706055}\n",
      "{'winner': 0, 'reward_closeness_to_puck': 0, 'reward_touch_puck': 0.0, 'reward_puck_direction': 0.0001808658242225647}\n",
      "{'winner': 0, 'reward_closeness_to_puck': 0, 'reward_touch_puck': 0.0, 'reward_puck_direction': 0.00018068495988845826}\n",
      "{'winner': 0, 'reward_closeness_to_puck': 0, 'reward_touch_puck': 0.0, 'reward_puck_direction': 0.00018050427436828615}\n",
      "{'winner': 0, 'reward_closeness_to_puck': 0, 'reward_touch_puck': 0.0, 'reward_puck_direction': 0.00018032376766204835}\n",
      "{'winner': 0, 'reward_closeness_to_puck': 0, 'reward_touch_puck': 0.0, 'reward_puck_direction': 0.00018014345169067384}\n",
      "{'winner': 0, 'reward_closeness_to_puck': 0, 'reward_touch_puck': 0.0, 'reward_puck_direction': 0.00017996331453323366}\n",
      "{'winner': 0, 'reward_closeness_to_puck': 0, 'reward_touch_puck': 0.0, 'reward_puck_direction': 0.0001797833561897278}\n",
      "{'winner': 0, 'reward_closeness_to_puck': 0, 'reward_touch_puck': 0.0, 'reward_puck_direction': 0.00017960357666015625}\n",
      "{'winner': 0, 'reward_closeness_to_puck': 0, 'reward_touch_puck': 0.0, 'reward_puck_direction': 0.00017942397594451905}\n",
      "{'winner': 0, 'reward_closeness_to_puck': 0, 'reward_touch_puck': 0.0, 'reward_puck_direction': 0.00017924455404281616}\n",
      "{'winner': 0, 'reward_closeness_to_puck': 0, 'reward_touch_puck': 0.0, 'reward_puck_direction': 0.0001790653109550476}\n",
      "{'winner': 0, 'reward_closeness_to_puck': 0, 'reward_touch_puck': 0.0, 'reward_puck_direction': 0.0001788862466812134}\n",
      "{'winner': 0, 'reward_closeness_to_puck': 0, 'reward_touch_puck': 0.0, 'reward_puck_direction': 0.00017870736122131348}\n",
      "{'winner': 0, 'reward_closeness_to_puck': 0, 'reward_touch_puck': 0.0, 'reward_puck_direction': 0.0001785286545753479}\n",
      "{'winner': 0, 'reward_closeness_to_puck': 0, 'reward_touch_puck': 0.0, 'reward_puck_direction': 0.00017835012674331666}\n",
      "{'winner': 0, 'reward_closeness_to_puck': 0, 'reward_touch_puck': 0.0, 'reward_puck_direction': 0.00017817177772521973}\n",
      "{'winner': 0, 'reward_closeness_to_puck': 0, 'reward_touch_puck': 0.0, 'reward_puck_direction': 0.00017799360752105713}\n",
      "{'winner': 0, 'reward_closeness_to_puck': 0, 'reward_touch_puck': 0.0, 'reward_puck_direction': 0.00017781561613082887}\n",
      "{'winner': 0, 'reward_closeness_to_puck': 0, 'reward_touch_puck': 0.0, 'reward_puck_direction': 0.00017763780355453492}\n",
      "{'winner': 0, 'reward_closeness_to_puck': 0, 'reward_touch_puck': 0.0, 'reward_puck_direction': 0.0001774601697921753}\n",
      "{'winner': 0, 'reward_closeness_to_puck': 0, 'reward_touch_puck': 0.0, 'reward_puck_direction': 0.00017728271484375002}\n",
      "{'winner': 0, 'reward_closeness_to_puck': 0, 'reward_touch_puck': 0.0, 'reward_puck_direction': 0.00017710543870925904}\n",
      "{'winner': 0, 'reward_closeness_to_puck': 0, 'reward_touch_puck': 0.0, 'reward_puck_direction': 0.0001769283413887024}\n",
      "{'winner': 0, 'reward_closeness_to_puck': 0, 'reward_touch_puck': 0.0, 'reward_puck_direction': 0.00017675141096115113}\n",
      "{'winner': 0, 'reward_closeness_to_puck': 0, 'reward_touch_puck': 0.0, 'reward_puck_direction': 0.00017657465934753418}\n",
      "{'winner': 0, 'reward_closeness_to_puck': 0, 'reward_touch_puck': 0.0, 'reward_puck_direction': 0.00017639808654785157}\n",
      "{'winner': 0, 'reward_closeness_to_puck': 0, 'reward_touch_puck': 0.0, 'reward_puck_direction': 0.0001762216925621033}\n",
      "{'winner': 0, 'reward_closeness_to_puck': 0, 'reward_touch_puck': 0.0, 'reward_puck_direction': 0.00017604547739028933}\n",
      "{'winner': 0, 'reward_closeness_to_puck': 0, 'reward_touch_puck': 0.0, 'reward_puck_direction': 0.00017586942911148072}\n",
      "{'winner': 0, 'reward_closeness_to_puck': 0, 'reward_touch_puck': 0.0, 'reward_puck_direction': 0.00017569355964660644}\n",
      "{'winner': 0, 'reward_closeness_to_puck': 0, 'reward_touch_puck': 0.0, 'reward_puck_direction': 0.0001755178689956665}\n",
      "{'winner': 0, 'reward_closeness_to_puck': 0, 'reward_touch_puck': 0.0, 'reward_puck_direction': 0.0001753423571586609}\n",
      "{'winner': 0, 'reward_closeness_to_puck': 0, 'reward_touch_puck': 0.0, 'reward_puck_direction': 0.00017516701221466065}\n",
      "{'winner': 0, 'reward_closeness_to_puck': 0, 'reward_touch_puck': 0.0, 'reward_puck_direction': 0.00017499184608459474}\n",
      "{'winner': 0, 'reward_closeness_to_puck': 0, 'reward_touch_puck': 0.0, 'reward_puck_direction': 0.00017481685876846314}\n",
      "{'winner': 0, 'reward_closeness_to_puck': 0, 'reward_touch_puck': 0.0, 'reward_puck_direction': 0.00017464203834533691}\n",
      "{'winner': 0, 'reward_closeness_to_puck': 0, 'reward_touch_puck': 0.0, 'reward_puck_direction': 0.00017446739673614503}\n",
      "{'winner': 0, 'reward_closeness_to_puck': 0, 'reward_touch_puck': 0.0, 'reward_puck_direction': 0.00017429293394088745}\n",
      "{'winner': 0, 'reward_closeness_to_puck': 0, 'reward_touch_puck': 0.0, 'reward_puck_direction': 0.00017411863803863526}\n",
      "{'winner': 0, 'reward_closeness_to_puck': 0, 'reward_touch_puck': 0.0, 'reward_puck_direction': 0.0001739445209503174}\n",
      "{'winner': 0, 'reward_closeness_to_puck': 0, 'reward_touch_puck': 0.0, 'reward_puck_direction': 0.00017377058267593385}\n",
      "{'winner': 0, 'reward_closeness_to_puck': 0, 'reward_touch_puck': 0.0, 'reward_puck_direction': 0.00017359681129455566}\n",
      "{'winner': 0, 'reward_closeness_to_puck': 0, 'reward_touch_puck': 0.0, 'reward_puck_direction': 0.00017342321872711183}\n",
      "{'winner': 0, 'reward_closeness_to_puck': 0, 'reward_touch_puck': 0.0, 'reward_puck_direction': 0.00017324979305267336}\n",
      "{'winner': 0, 'reward_closeness_to_puck': 0, 'reward_touch_puck': 0.0, 'reward_puck_direction': 0.0001730765461921692}\n",
      "{'winner': 0, 'reward_closeness_to_puck': 0, 'reward_touch_puck': 0.0, 'reward_puck_direction': 0.0001729034662246704}\n",
      "{'winner': 0, 'reward_closeness_to_puck': 0, 'reward_touch_puck': 0.0, 'reward_puck_direction': 0.00017273056507110596}\n",
      "{'winner': 0, 'reward_closeness_to_puck': 0, 'reward_touch_puck': 0.0, 'reward_puck_direction': 0.00017255783081054687}\n",
      "{'winner': 0, 'reward_closeness_to_puck': 0, 'reward_touch_puck': 0.0, 'reward_puck_direction': 0.00017238527536392212}\n",
      "{'winner': 0, 'reward_closeness_to_puck': 0, 'reward_touch_puck': 0.0, 'reward_puck_direction': 0.00017221288681030275}\n",
      "{'winner': 0, 'reward_closeness_to_puck': 0, 'reward_touch_puck': 0.0, 'reward_puck_direction': 0.00017204067707061768}\n",
      "{'winner': 0, 'reward_closeness_to_puck': 0, 'reward_touch_puck': 0.0, 'reward_puck_direction': 0.000171868634223938}\n",
      "{'winner': 0, 'reward_closeness_to_puck': 0, 'reward_touch_puck': 0.0, 'reward_puck_direction': 0.00017169677019119263}\n",
      "{'winner': 0, 'reward_closeness_to_puck': 0, 'reward_touch_puck': 0.0, 'reward_puck_direction': 5.1666498184204105e-05}\n",
      "{'winner': 0, 'reward_closeness_to_puck': 0, 'reward_touch_puck': 0.0, 'reward_puck_direction': 5.1614832878112795e-05}\n",
      "{'winner': 0, 'reward_closeness_to_puck': 0, 'reward_touch_puck': 0.0, 'reward_puck_direction': 5.1563221216201784e-05}\n",
      "{'winner': 0, 'reward_closeness_to_puck': 0, 'reward_touch_puck': 0.0, 'reward_puck_direction': 5.1511657238006594e-05}\n",
      "{'winner': 0, 'reward_closeness_to_puck': 0, 'reward_touch_puck': 0.0, 'reward_puck_direction': 5.14601469039917e-05}\n",
      "{'winner': 0, 'reward_closeness_to_puck': 0, 'reward_touch_puck': 0.0, 'reward_puck_direction': 5.140869021415711e-05}\n",
      "{'winner': 0, 'reward_closeness_to_puck': 0, 'reward_touch_puck': 0.0, 'reward_puck_direction': 5.135728120803833e-05}\n",
      "{'winner': 0, 'reward_closeness_to_puck': 0, 'reward_touch_puck': 0.0, 'reward_puck_direction': 5.130592584609986e-05}\n",
      "{'winner': 0, 'reward_closeness_to_puck': 0, 'reward_touch_puck': 0.0, 'reward_puck_direction': 5.12546181678772e-05}\n",
      "{'winner': 0, 'reward_closeness_to_puck': 0, 'reward_touch_puck': 0.0, 'reward_puck_direction': 5.1203364133834844e-05}\n",
      "{'winner': 0, 'reward_closeness_to_puck': 0, 'reward_touch_puck': 0.0, 'reward_puck_direction': 5.115216374397278e-05}\n",
      "{'winner': 0, 'reward_closeness_to_puck': 0, 'reward_touch_puck': 0.0, 'reward_puck_direction': 5.110101103782654e-05}\n",
      "{'winner': 0, 'reward_closeness_to_puck': 0, 'reward_touch_puck': 0.0, 'reward_puck_direction': 5.10499119758606e-05}\n",
      "{'winner': 0, 'reward_closeness_to_puck': 0, 'reward_touch_puck': 0.0, 'reward_puck_direction': 5.099886059761048e-05}\n",
      "{'winner': 0, 'reward_closeness_to_puck': 0, 'reward_touch_puck': 0.0, 'reward_puck_direction': 5.0947862863540654e-05}\n",
      "{'winner': 0, 'reward_closeness_to_puck': 0, 'reward_touch_puck': 0.0, 'reward_puck_direction': 5.0896912813186646e-05}\n",
      "{'winner': 0, 'reward_closeness_to_puck': 0, 'reward_touch_puck': 0.0, 'reward_puck_direction': 5.084601640701294e-05}\n",
      "{'winner': 0, 'reward_closeness_to_puck': 0, 'reward_touch_puck': 0.0, 'reward_puck_direction': 5.079517364501953e-05}\n",
      "{'winner': 0, 'reward_closeness_to_puck': 0, 'reward_touch_puck': 0.0, 'reward_puck_direction': 5.074437856674195e-05}\n",
      "{'winner': 0, 'reward_closeness_to_puck': 0, 'reward_touch_puck': 0.0, 'reward_puck_direction': 5.0693637132644655e-05}\n",
      "{'winner': 0, 'reward_closeness_to_puck': 0, 'reward_touch_puck': 0.0, 'reward_puck_direction': 5.0642943382263184e-05}\n"
     ]
    },
    {
     "name": "stdout",
     "output_type": "stream",
     "text": [
      "{'winner': 0, 'reward_closeness_to_puck': 0, 'reward_touch_puck': 0.0, 'reward_puck_direction': 5.059230327606201e-05}\n",
      "{'winner': 0, 'reward_closeness_to_puck': 0, 'reward_touch_puck': 0.0, 'reward_puck_direction': 5.054171085357666e-05}\n",
      "{'winner': 0, 'reward_closeness_to_puck': 0, 'reward_touch_puck': 0.0, 'reward_puck_direction': 5.049117207527161e-05}\n",
      "{'winner': 0, 'reward_closeness_to_puck': 0, 'reward_touch_puck': 0.0, 'reward_puck_direction': 5.044068098068238e-05}\n",
      "{'winner': 0, 'reward_closeness_to_puck': 0, 'reward_touch_puck': 0.0, 'reward_puck_direction': 5.039024353027344e-05}\n",
      "{'winner': 0, 'reward_closeness_to_puck': 0, 'reward_touch_puck': 0.0, 'reward_puck_direction': 5.033985376358033e-05}\n",
      "{'winner': 0, 'reward_closeness_to_puck': 0, 'reward_touch_puck': 0.0, 'reward_puck_direction': 5.028951168060303e-05}\n",
      "{'winner': 0, 'reward_closeness_to_puck': 0, 'reward_touch_puck': 0.0, 'reward_puck_direction': 5.0239223241806034e-05}\n",
      "{'winner': 0, 'reward_closeness_to_puck': 0, 'reward_touch_puck': 0.0, 'reward_puck_direction': 5.018898248672486e-05}\n",
      "{'winner': 0, 'reward_closeness_to_puck': 0, 'reward_touch_puck': 0.0, 'reward_puck_direction': 5.013879537582398e-05}\n",
      "{'winner': 0, 'reward_closeness_to_puck': 0, 'reward_touch_puck': 0.0, 'reward_puck_direction': 5.008865594863892e-05}\n",
      "{'winner': 0, 'reward_closeness_to_puck': 0, 'reward_touch_puck': 0.0, 'reward_puck_direction': 5.003857016563416e-05}\n",
      "{'winner': 0, 'reward_closeness_to_puck': 0, 'reward_touch_puck': 0.0, 'reward_puck_direction': 4.9988532066345216e-05}\n",
      "{'winner': 0, 'reward_closeness_to_puck': 0, 'reward_touch_puck': 0.0, 'reward_puck_direction': 4.993854463100433e-05}\n",
      "{'winner': 0, 'reward_closeness_to_puck': 0, 'reward_touch_puck': 0.0, 'reward_puck_direction': 4.9888607859611516e-05}\n",
      "{'winner': 0, 'reward_closeness_to_puck': 0, 'reward_touch_puck': 0.0, 'reward_puck_direction': 4.983871877193451e-05}\n",
      "{'winner': 0, 'reward_closeness_to_puck': 0, 'reward_touch_puck': 0.0, 'reward_puck_direction': 4.978888034820557e-05}\n",
      "{'winner': 0, 'reward_closeness_to_puck': 0, 'reward_touch_puck': 0.0, 'reward_puck_direction': 4.9739092588424686e-05}\n",
      "{'winner': 0, 'reward_closeness_to_puck': 0, 'reward_touch_puck': 0.0, 'reward_puck_direction': 4.968935549259186e-05}\n",
      "{'winner': 0, 'reward_closeness_to_puck': 0, 'reward_touch_puck': 0.0, 'reward_puck_direction': 4.963966608047486e-05}\n",
      "{'winner': 0, 'reward_closeness_to_puck': 0, 'reward_touch_puck': 0.0, 'reward_puck_direction': 4.959002733230591e-05}\n",
      "{'winner': 0, 'reward_closeness_to_puck': 0, 'reward_touch_puck': 0.0, 'reward_puck_direction': 4.9540439248085024e-05}\n",
      "{'winner': 0, 'reward_closeness_to_puck': 0, 'reward_touch_puck': 0.0, 'reward_puck_direction': 4.949089884757996e-05}\n",
      "{'winner': 0, 'reward_closeness_to_puck': 0, 'reward_touch_puck': 0.0, 'reward_puck_direction': 4.9441409111022955e-05}\n",
      "{'winner': 0, 'reward_closeness_to_puck': 0, 'reward_touch_puck': 0.0, 'reward_puck_direction': 4.9391967058181765e-05}\n",
      "{'winner': 0, 'reward_closeness_to_puck': 0, 'reward_touch_puck': 0.0, 'reward_puck_direction': 4.9342575669288636e-05}\n",
      "{'winner': 0, 'reward_closeness_to_puck': 0, 'reward_touch_puck': 0.0, 'reward_puck_direction': 4.929323494434357e-05}\n",
      "{'winner': 0, 'reward_closeness_to_puck': 0, 'reward_touch_puck': 0.0, 'reward_puck_direction': 4.9243941903114325e-05}\n",
      "{'winner': 0, 'reward_closeness_to_puck': 0, 'reward_touch_puck': 0.0, 'reward_puck_direction': 0.00012235432863235473}\n",
      "{'winner': 0, 'reward_closeness_to_puck': 0, 'reward_touch_puck': 0.0, 'reward_puck_direction': 0.0001222319722175598}\n",
      "{'winner': 0, 'reward_closeness_to_puck': 0, 'reward_touch_puck': 0.0, 'reward_puck_direction': 0.0001221097469329834}\n",
      "{'winner': 0, 'reward_closeness_to_puck': 0, 'reward_touch_puck': 0.0, 'reward_puck_direction': 0.00012198764085769654}\n",
      "{'winner': 0, 'reward_closeness_to_puck': 0, 'reward_touch_puck': 0.0, 'reward_puck_direction': 0.00012186565399169923}\n",
      "{'winner': 0, 'reward_closeness_to_puck': 0, 'reward_touch_puck': 0.0, 'reward_puck_direction': 0.00012174378633499145}\n",
      "{'winner': 0, 'reward_closeness_to_puck': 0, 'reward_touch_puck': 0.0, 'reward_puck_direction': 0.00012162204980850221}\n",
      "{'winner': 0, 'reward_closeness_to_puck': 0, 'reward_touch_puck': 0.0, 'reward_puck_direction': 0.0001215004324913025}\n",
      "{'winner': 0, 'reward_closeness_to_puck': 0, 'reward_touch_puck': 0.0, 'reward_puck_direction': 0.00012137893438339234}\n",
      "{'winner': 0, 'reward_closeness_to_puck': 0, 'reward_touch_puck': 0.0, 'reward_puck_direction': 0.00012125755548477174}\n",
      "{'winner': 0, 'reward_closeness_to_puck': 0, 'reward_touch_puck': 0.0, 'reward_puck_direction': 0.00012113629579544069}\n",
      "{'winner': 0, 'reward_closeness_to_puck': 0, 'reward_touch_puck': 0.0, 'reward_puck_direction': 0.00012101515531539918}\n",
      "{'winner': 0, 'reward_closeness_to_puck': 0, 'reward_touch_puck': 0.0, 'reward_puck_direction': 0.00012089414596557617}\n",
      "{'winner': 0, 'reward_closeness_to_puck': 0, 'reward_touch_puck': 0.0, 'reward_puck_direction': 0.00012077325582504273}\n",
      "{'winner': 0, 'reward_closeness_to_puck': 0, 'reward_touch_puck': 0.0, 'reward_puck_direction': 0.00012065248489379883}\n",
      "{'winner': 0, 'reward_closeness_to_puck': 0, 'reward_touch_puck': 0.0, 'reward_puck_direction': 9.07907783985138e-05}\n",
      "{'winner': 0, 'reward_closeness_to_puck': 0, 'reward_touch_puck': 0.0, 'reward_puck_direction': 9.069998860359193e-05}\n",
      "{'winner': 0, 'reward_closeness_to_puck': 0, 'reward_touch_puck': 0.0, 'reward_puck_direction': 9.060928821563721e-05}\n",
      "{'winner': 0, 'reward_closeness_to_puck': 0, 'reward_touch_puck': 0.0, 'reward_puck_direction': 9.051867723464966e-05}\n",
      "{'winner': 0, 'reward_closeness_to_puck': 0, 'reward_touch_puck': 0.0, 'reward_puck_direction': 9.042816162109376e-05}\n",
      "{'winner': 0, 'reward_closeness_to_puck': 0, 'reward_touch_puck': 0.0, 'reward_puck_direction': 9.033773541450501e-05}\n",
      "{'winner': 0, 'reward_closeness_to_puck': 0, 'reward_touch_puck': 0.0, 'reward_puck_direction': 9.024739861488343e-05}\n",
      "{'winner': 0, 'reward_closeness_to_puck': 0, 'reward_touch_puck': 0.0, 'reward_puck_direction': 9.0157151222229e-05}\n",
      "{'winner': 0, 'reward_closeness_to_puck': 0, 'reward_touch_puck': 0.0, 'reward_puck_direction': 9.006699323654175e-05}\n",
      "{'winner': 0, 'reward_closeness_to_puck': 0, 'reward_touch_puck': 0.0, 'reward_puck_direction': 8.997692465782166e-05}\n",
      "{'winner': 0, 'reward_closeness_to_puck': 0, 'reward_touch_puck': 0.0, 'reward_puck_direction': 8.988695144653321e-05}\n",
      "{'winner': 0, 'reward_closeness_to_puck': 0, 'reward_touch_puck': 0.0, 'reward_puck_direction': 8.979706764221192e-05}\n",
      "{'winner': 0, 'reward_closeness_to_puck': 0, 'reward_touch_puck': 0.0, 'reward_puck_direction': 8.97072732448578e-05}\n",
      "{'winner': 0, 'reward_closeness_to_puck': 0, 'reward_touch_puck': 0.0, 'reward_puck_direction': 8.961756825447083e-05}\n",
      "{'winner': 0, 'reward_closeness_to_puck': 0, 'reward_touch_puck': 0.0, 'reward_puck_direction': 8.952795267105103e-05}\n",
      "{'winner': 0, 'reward_closeness_to_puck': 0, 'reward_touch_puck': 0.0, 'reward_puck_direction': 8.943842649459839e-05}\n",
      "{'winner': 0, 'reward_closeness_to_puck': 0, 'reward_touch_puck': 0.0, 'reward_puck_direction': 8.934898972511291e-05}\n",
      "{'winner': 0, 'reward_closeness_to_puck': 0, 'reward_touch_puck': 0.0, 'reward_puck_direction': 8.925964236259461e-05}\n",
      "{'winner': 0, 'reward_closeness_to_puck': 0, 'reward_touch_puck': 0.0, 'reward_puck_direction': 8.917038440704346e-05}\n",
      "{'winner': 0, 'reward_closeness_to_puck': 0, 'reward_touch_puck': 0.0, 'reward_puck_direction': 8.908121585845948e-05}\n",
      "{'winner': 0, 'reward_closeness_to_puck': 0, 'reward_touch_puck': 0.0, 'reward_puck_direction': 8.899213671684266e-05}\n",
      "{'winner': 0, 'reward_closeness_to_puck': 0, 'reward_touch_puck': 0.0, 'reward_puck_direction': 8.8903146982193e-05}\n",
      "{'winner': 0, 'reward_closeness_to_puck': 0, 'reward_touch_puck': 0.0, 'reward_puck_direction': 8.88142466545105e-05}\n",
      "{'winner': 0, 'reward_closeness_to_puck': 0, 'reward_touch_puck': 0.0, 'reward_puck_direction': 8.872543573379517e-05}\n",
      "{'winner': 0, 'reward_closeness_to_puck': 0, 'reward_touch_puck': 0.0, 'reward_puck_direction': 8.8636714220047e-05}\n",
      "{'winner': 0, 'reward_closeness_to_puck': 0, 'reward_touch_puck': 0.0, 'reward_puck_direction': 8.854807615280152e-05}\n",
      "{'winner': 0, 'reward_closeness_to_puck': 0, 'reward_touch_puck': 0.0, 'reward_puck_direction': 8.84595274925232e-05}\n",
      "{'winner': 0, 'reward_closeness_to_puck': 0, 'reward_touch_puck': 0.0, 'reward_puck_direction': 8.837106823921204e-05}\n",
      "{'winner': 0, 'reward_closeness_to_puck': 0, 'reward_touch_puck': 0.0, 'reward_puck_direction': 8.828269839286805e-05}\n",
      "{'winner': 0, 'reward_closeness_to_puck': 0, 'reward_touch_puck': 0.0, 'reward_puck_direction': 8.819441795349121e-05}\n",
      "{'winner': 0, 'reward_closeness_to_puck': 0, 'reward_touch_puck': 0.0, 'reward_puck_direction': 8.810622692108155e-05}\n",
      "{'winner': 0, 'reward_closeness_to_puck': 0, 'reward_touch_puck': 0.0, 'reward_puck_direction': 8.801811933517456e-05}\n",
      "{'winner': 0, 'reward_closeness_to_puck': 0, 'reward_touch_puck': 0.0, 'reward_puck_direction': 8.793010115623475e-05}\n",
      "{'winner': 0, 'reward_closeness_to_puck': 0, 'reward_touch_puck': 0.0, 'reward_puck_direction': 8.784217238426209e-05}\n"
     ]
    },
    {
     "name": "stdout",
     "output_type": "stream",
     "text": [
      "{'winner': 0, 'reward_closeness_to_puck': 0, 'reward_touch_puck': 0.0, 'reward_puck_direction': 8.77543330192566e-05}\n",
      "{'winner': 0, 'reward_closeness_to_puck': 0, 'reward_touch_puck': 0.0, 'reward_puck_direction': 8.766657710075379e-05}\n",
      "{'winner': 0, 'reward_closeness_to_puck': 0, 'reward_touch_puck': 0.0, 'reward_puck_direction': 8.757891058921814e-05}\n",
      "{'winner': 0, 'reward_closeness_to_puck': 0, 'reward_touch_puck': 0.0, 'reward_puck_direction': 8.749133348464966e-05}\n",
      "{'winner': 0, 'reward_closeness_to_puck': 0, 'reward_touch_puck': 0.0, 'reward_puck_direction': 8.740384578704834e-05}\n",
      "{'winner': 0, 'reward_closeness_to_puck': 0, 'reward_touch_puck': 0.0, 'reward_puck_direction': 8.73164415359497e-05}\n",
      "{'winner': 0, 'reward_closeness_to_puck': 0, 'reward_touch_puck': 0.0, 'reward_puck_direction': 8.722912669181824e-05}\n",
      "{'winner': 0, 'reward_closeness_to_puck': 0, 'reward_touch_puck': 0.0, 'reward_puck_direction': 8.714190125465394e-05}\n",
      "{'winner': 0, 'reward_closeness_to_puck': 0, 'reward_touch_puck': 0.0, 'reward_puck_direction': 8.705475926399232e-05}\n",
      "{'winner': 0, 'reward_closeness_to_puck': 0, 'reward_touch_puck': 0.0, 'reward_puck_direction': 8.696770668029785e-05}\n",
      "{'winner': 0, 'reward_closeness_to_puck': 0, 'reward_touch_puck': 0.0, 'reward_puck_direction': 2.70205020904541e-05}\n",
      "{'winner': 0, 'reward_closeness_to_puck': 0, 'reward_touch_puck': 0.0, 'reward_puck_direction': 2.699348330497742e-05}\n",
      "{'winner': 0, 'reward_closeness_to_puck': 0, 'reward_touch_puck': 0.0, 'reward_puck_direction': 2.6966491341590883e-05}\n",
      "{'winner': 0, 'reward_closeness_to_puck': 0, 'reward_touch_puck': 0.0, 'reward_puck_direction': 2.6939526200294496e-05}\n",
      "{'winner': 0, 'reward_closeness_to_puck': 0, 'reward_touch_puck': 0.0, 'reward_puck_direction': 2.6912587881088257e-05}\n",
      "{'winner': 0, 'reward_closeness_to_puck': 0, 'reward_touch_puck': 0.0, 'reward_puck_direction': 2.6885676383972168e-05}\n",
      "{'winner': 0, 'reward_closeness_to_puck': 0, 'reward_touch_puck': 0.0, 'reward_puck_direction': 2.685879170894623e-05}\n",
      "{'winner': 0, 'reward_closeness_to_puck': 0, 'reward_touch_puck': 0.0, 'reward_puck_direction': 2.683193385601044e-05}\n",
      "{'winner': 0, 'reward_closeness_to_puck': 0, 'reward_touch_puck': 0.0, 'reward_puck_direction': 2.6805102825164797e-05}\n",
      "{'winner': 0, 'reward_closeness_to_puck': 0, 'reward_touch_puck': 0.0, 'reward_puck_direction': 2.6778298616409303e-05}\n",
      "{'winner': 0, 'reward_closeness_to_puck': 0, 'reward_touch_puck': 0.0, 'reward_puck_direction': 2.675152122974396e-05}\n",
      "{'winner': 0, 'reward_closeness_to_puck': 0, 'reward_touch_puck': 0.0, 'reward_puck_direction': 2.6724770665168763e-05}\n",
      "{'winner': 0, 'reward_closeness_to_puck': 0, 'reward_touch_puck': 0.0, 'reward_puck_direction': 2.6698046922683716e-05}\n",
      "{'winner': 0, 'reward_closeness_to_puck': 0, 'reward_touch_puck': 0.0, 'reward_puck_direction': 2.667135000228882e-05}\n",
      "{'winner': 0, 'reward_closeness_to_puck': 0, 'reward_touch_puck': 0.0, 'reward_puck_direction': 2.664467990398407e-05}\n",
      "{'winner': 0, 'reward_closeness_to_puck': 0, 'reward_touch_puck': 0.0, 'reward_puck_direction': 2.661803662776947e-05}\n",
      "{'winner': 0, 'reward_closeness_to_puck': 0, 'reward_touch_puck': 0.0, 'reward_puck_direction': 2.659142017364502e-05}\n",
      "{'winner': 0, 'reward_closeness_to_puck': 0, 'reward_touch_puck': 0.0, 'reward_puck_direction': 2.6564830541610717e-05}\n",
      "{'winner': 0, 'reward_closeness_to_puck': 0, 'reward_touch_puck': 0.0, 'reward_puck_direction': 2.6538264751434327e-05}\n",
      "{'winner': 0, 'reward_closeness_to_puck': 0, 'reward_touch_puck': 0.0, 'reward_puck_direction': 2.6511725783348085e-05}\n",
      "{'winner': 0, 'reward_closeness_to_puck': 0, 'reward_touch_puck': 0.0, 'reward_puck_direction': 2.648521363735199e-05}\n",
      "{'winner': 0, 'reward_closeness_to_puck': 0, 'reward_touch_puck': 0.0, 'reward_puck_direction': 2.6458728313446048e-05}\n",
      "{'winner': 0, 'reward_closeness_to_puck': 0, 'reward_touch_puck': 0.0, 'reward_puck_direction': 2.643226981163025e-05}\n",
      "{'winner': 0, 'reward_closeness_to_puck': 0, 'reward_touch_puck': 0.0, 'reward_puck_direction': 2.6405838131904603e-05}\n",
      "{'winner': 0, 'reward_closeness_to_puck': 0, 'reward_touch_puck': 0.0, 'reward_puck_direction': 2.6379433274269106e-05}\n",
      "{'winner': 0, 'reward_closeness_to_puck': 0, 'reward_touch_puck': 0.0, 'reward_puck_direction': 2.6353055238723755e-05}\n",
      "{'winner': 0, 'reward_closeness_to_puck': 0, 'reward_touch_puck': 0.0, 'reward_puck_direction': 2.6326701045036318e-05}\n",
      "{'winner': 0, 'reward_closeness_to_puck': 0, 'reward_touch_puck': 0.0, 'reward_puck_direction': 2.6300373673439026e-05}\n",
      "{'winner': 0, 'reward_closeness_to_puck': 0, 'reward_touch_puck': 0.0, 'reward_puck_direction': 2.6274073123931887e-05}\n",
      "{'winner': 0, 'reward_closeness_to_puck': 0, 'reward_touch_puck': 0.0, 'reward_puck_direction': 2.6247799396514893e-05}\n",
      "{'winner': 0, 'reward_closeness_to_puck': 0, 'reward_touch_puck': 0.0, 'reward_puck_direction': 2.6221552491188052e-05}\n",
      "{'winner': 0, 'reward_closeness_to_puck': 0, 'reward_touch_puck': 0.0, 'reward_puck_direction': 2.6195332407951356e-05}\n",
      "{'winner': 0, 'reward_closeness_to_puck': 0, 'reward_touch_puck': 0.0, 'reward_puck_direction': 2.616913616657257e-05}\n",
      "{'winner': 0, 'reward_closeness_to_puck': 0, 'reward_touch_puck': 0.0, 'reward_puck_direction': 2.6142966747283936e-05}\n",
      "{'winner': 0, 'reward_closeness_to_puck': 0, 'reward_touch_puck': 0.0, 'reward_puck_direction': 2.611682415008545e-05}\n",
      "{'winner': 0, 'reward_closeness_to_puck': 0, 'reward_touch_puck': 0.0, 'reward_puck_direction': 2.6090708374977114e-05}\n",
      "{'winner': 0, 'reward_closeness_to_puck': 0, 'reward_touch_puck': 0.0, 'reward_puck_direction': 2.6064619421958925e-05}\n",
      "{'winner': 0, 'reward_closeness_to_puck': 0, 'reward_touch_puck': 0.0, 'reward_puck_direction': 2.6038554310798648e-05}\n",
      "{'winner': 0, 'reward_closeness_to_puck': 0, 'reward_touch_puck': 0.0, 'reward_puck_direction': 2.6012516021728515e-05}\n",
      "{'winner': 0, 'reward_closeness_to_puck': 0, 'reward_touch_puck': 0.0, 'reward_puck_direction': 2.5986504554748535e-05}\n",
      "{'winner': 0, 'reward_closeness_to_puck': 0, 'reward_touch_puck': 0.0, 'reward_puck_direction': 2.5960516929626466e-05}\n",
      "{'winner': 0, 'reward_closeness_to_puck': 0, 'reward_touch_puck': 0.0, 'reward_puck_direction': 2.5934556126594546e-05}\n",
      "{'winner': 0, 'reward_closeness_to_puck': 0, 'reward_touch_puck': 0.0, 'reward_puck_direction': 2.590862214565277e-05}\n",
      "{'winner': 0, 'reward_closeness_to_puck': 0, 'reward_touch_puck': 0.0, 'reward_puck_direction': 2.588271498680115e-05}\n",
      "{'winner': 0, 'reward_closeness_to_puck': 0, 'reward_touch_puck': 0.0, 'reward_puck_direction': 2.5856831669807435e-05}\n",
      "{'winner': 0, 'reward_closeness_to_puck': 0, 'reward_touch_puck': 0.0, 'reward_puck_direction': 2.583097517490387e-05}\n",
      "{'winner': 0, 'reward_closeness_to_puck': 0, 'reward_touch_puck': 0.0, 'reward_puck_direction': 2.5805145502090456e-05}\n",
      "{'winner': 0, 'reward_closeness_to_puck': 0, 'reward_touch_puck': 0.0, 'reward_puck_direction': 2.577933967113495e-05}\n",
      "{'winner': 0, 'reward_closeness_to_puck': 0, 'reward_touch_puck': 0.0, 'reward_puck_direction': 7.96935260295868e-06}\n",
      "{'winner': 0, 'reward_closeness_to_puck': 0, 'reward_touch_puck': 0.0, 'reward_puck_direction': 7.96138346195221e-06}\n",
      "{'winner': 0, 'reward_closeness_to_puck': 0, 'reward_touch_puck': 0.0, 'reward_puck_direction': 7.953422516584398e-06}\n",
      "{'winner': 0, 'reward_closeness_to_puck': 0, 'reward_touch_puck': 0.0, 'reward_puck_direction': 7.94546902179718e-06}\n",
      "{'winner': 0, 'reward_closeness_to_puck': 0, 'reward_touch_puck': 0.0, 'reward_puck_direction': 7.937523722648622e-06}\n",
      "{'winner': 0, 'reward_closeness_to_puck': 0, 'reward_touch_puck': 0.0, 'reward_puck_direction': 7.929586619138719e-06}\n",
      "{'winner': 0, 'reward_closeness_to_puck': 0, 'reward_touch_puck': 0.0, 'reward_puck_direction': 7.921656966209413e-06}\n",
      "{'winner': 0, 'reward_closeness_to_puck': 0, 'reward_touch_puck': 0.0, 'reward_puck_direction': 7.913735508918763e-06}\n",
      "{'winner': 0, 'reward_closeness_to_puck': 0, 'reward_touch_puck': 0.0, 'reward_puck_direction': 7.90582224726677e-06}\n",
      "{'winner': 0, 'reward_closeness_to_puck': 0, 'reward_touch_puck': 0.0, 'reward_puck_direction': 7.897916436195374e-06}\n",
      "{'winner': 0, 'reward_closeness_to_puck': 0, 'reward_touch_puck': 0.0, 'reward_puck_direction': 7.890018820762635e-06}\n",
      "{'winner': 0, 'reward_closeness_to_puck': 0, 'reward_touch_puck': 0.0, 'reward_puck_direction': 7.882128655910492e-06}\n",
      "{'winner': 0, 'reward_closeness_to_puck': 0, 'reward_touch_puck': 0.0, 'reward_puck_direction': 7.874246686697007e-06}\n",
      "{'winner': 0, 'reward_closeness_to_puck': 0, 'reward_touch_puck': 0.0, 'reward_puck_direction': 7.866372913122178e-06}\n",
      "{'winner': 0, 'reward_closeness_to_puck': 0, 'reward_touch_puck': 0.0, 'reward_puck_direction': 7.858506590127945e-06}\n",
      "{'winner': 0, 'reward_closeness_to_puck': 0, 'reward_touch_puck': 0.0, 'reward_puck_direction': 7.85064846277237e-06}\n",
      "{'winner': 0, 'reward_closeness_to_puck': 0, 'reward_touch_puck': 0.0, 'reward_puck_direction': 7.842797785997392e-06}\n",
      "{'winner': 0, 'reward_closeness_to_puck': 0, 'reward_touch_puck': 0.0, 'reward_puck_direction': 7.834955304861068e-06}\n",
      "{'winner': 0, 'reward_closeness_to_puck': 0, 'reward_touch_puck': 0.0, 'reward_puck_direction': 7.827120274305345e-06}\n",
      "{'winner': 0, 'reward_closeness_to_puck': 0, 'reward_touch_puck': 0.0, 'reward_puck_direction': 7.819293439388276e-06}\n"
     ]
    },
    {
     "name": "stdout",
     "output_type": "stream",
     "text": [
      "{'winner': 0, 'reward_closeness_to_puck': 0, 'reward_touch_puck': 0.0, 'reward_puck_direction': 7.811474055051804e-06}\n",
      "{'winner': 0, 'reward_closeness_to_puck': 0, 'reward_touch_puck': 0.0, 'reward_puck_direction': 7.80366286635399e-06}\n",
      "{'winner': 0, 'reward_closeness_to_puck': 0, 'reward_touch_puck': 0.0, 'reward_puck_direction': 7.79585912823677e-06}\n",
      "{'winner': 0, 'reward_closeness_to_puck': 0, 'reward_touch_puck': 0.0, 'reward_puck_direction': 7.78806358575821e-06}\n",
      "{'winner': 0, 'reward_closeness_to_puck': 0, 'reward_touch_puck': 0.0, 'reward_puck_direction': 7.780275493860245e-06}\n",
      "{'winner': 0, 'reward_closeness_to_puck': 0, 'reward_touch_puck': 0.0, 'reward_puck_direction': 7.772495597600937e-06}\n",
      "{'winner': 0, 'reward_closeness_to_puck': 0, 'reward_touch_puck': 0.0, 'reward_puck_direction': 7.764723151922227e-06}\n",
      "{'winner': 0, 'reward_closeness_to_puck': 0, 'reward_touch_puck': 0.0, 'reward_puck_direction': 7.756958156824112e-06}\n",
      "{'winner': 0, 'reward_closeness_to_puck': 0, 'reward_touch_puck': 0.0, 'reward_puck_direction': 7.749201357364655e-06}\n",
      "{'winner': 0, 'reward_closeness_to_puck': 0, 'reward_touch_puck': 0.0, 'reward_puck_direction': 7.741452008485794e-06}\n",
      "{'winner': 0, 'reward_closeness_to_puck': 0, 'reward_touch_puck': 0.0, 'reward_puck_direction': 7.73371085524559e-06}\n",
      "{'winner': 0, 'reward_closeness_to_puck': 0, 'reward_touch_puck': 0.0, 'reward_puck_direction': 7.725977152585983e-06}\n",
      "{'winner': 0, 'reward_closeness_to_puck': 0, 'reward_touch_puck': 0.0, 'reward_puck_direction': 7.718251645565034e-06}\n",
      "{'winner': 0, 'reward_closeness_to_puck': 0, 'reward_touch_puck': 0.0, 'reward_puck_direction': 7.71053358912468e-06}\n",
      "{'winner': 0, 'reward_closeness_to_puck': 0, 'reward_touch_puck': 0.0, 'reward_puck_direction': 7.702822983264924e-06}\n",
      "{'winner': 0, 'reward_closeness_to_puck': 0, 'reward_touch_puck': 0.0, 'reward_puck_direction': 7.695120573043823e-06}\n",
      "{'winner': 0, 'reward_closeness_to_puck': 0, 'reward_touch_puck': 0.0, 'reward_puck_direction': 7.68742561340332e-06}\n",
      "{'winner': 0, 'reward_closeness_to_puck': 0, 'reward_touch_puck': 0.0, 'reward_puck_direction': 7.679738104343415e-06}\n",
      "{'winner': 0, 'reward_closeness_to_puck': 0, 'reward_touch_puck': 0.0, 'reward_puck_direction': 7.672058790922165e-06}\n",
      "{'winner': 0, 'reward_closeness_to_puck': 0, 'reward_touch_puck': 0.0, 'reward_puck_direction': 7.664386928081512e-06}\n",
      "{'winner': 0, 'reward_closeness_to_puck': 0, 'reward_touch_puck': 0.0, 'reward_puck_direction': 7.656722515821458e-06}\n",
      "{'winner': 0, 'reward_closeness_to_puck': 0, 'reward_touch_puck': 0.0, 'reward_puck_direction': 7.649065554141999e-06}\n",
      "{'winner': 0, 'reward_closeness_to_puck': 0, 'reward_touch_puck': 0.0, 'reward_puck_direction': 7.641416788101197e-06}\n",
      "{'winner': 0, 'reward_closeness_to_puck': 0, 'reward_touch_puck': 0.0, 'reward_puck_direction': 7.633775472640991e-06}\n",
      "{'winner': 0, 'reward_closeness_to_puck': 0, 'reward_touch_puck': 0.0, 'reward_puck_direction': 7.626141607761383e-06}\n",
      "{'winner': 0, 'reward_closeness_to_puck': 0, 'reward_touch_puck': 0.0, 'reward_puck_direction': 7.618515193462372e-06}\n",
      "{'winner': 0, 'reward_closeness_to_puck': 0, 'reward_touch_puck': 0.0, 'reward_puck_direction': 7.610896974802018e-06}\n",
      "{'winner': 0, 'reward_closeness_to_puck': 0, 'reward_touch_puck': 0.0, 'reward_puck_direction': 7.60328620672226e-06}\n",
      "{'winner': 0, 'reward_closeness_to_puck': 0, 'reward_touch_puck': 0.0, 'reward_puck_direction': 7.595682889223099e-06}\n",
      "{'winner': 0, 'reward_closeness_to_puck': 0, 'reward_touch_puck': 0.0, 'reward_puck_direction': 7.588087022304535e-06}\n",
      "{'winner': 0, 'reward_closeness_to_puck': 0, 'reward_touch_puck': 0.0, 'reward_puck_direction': 7.580499351024628e-06}\n",
      "{'winner': 0, 'reward_closeness_to_puck': 0, 'reward_touch_puck': 0.0, 'reward_puck_direction': 7.572919130325318e-06}\n",
      "{'winner': 0, 'reward_closeness_to_puck': 0, 'reward_touch_puck': 0.0, 'reward_puck_direction': 7.565346360206605e-06}\n",
      "{'winner': 0, 'reward_closeness_to_puck': 0, 'reward_touch_puck': 0.0, 'reward_puck_direction': 2.3264445364475253e-06}\n",
      "{'winner': 0, 'reward_closeness_to_puck': 0, 'reward_touch_puck': 0.0, 'reward_puck_direction': 2.3241180926561358e-06}\n",
      "{'winner': 0, 'reward_closeness_to_puck': 0, 'reward_touch_puck': 0.0, 'reward_puck_direction': 2.32179407030344e-06}\n",
      "{'winner': 0, 'reward_closeness_to_puck': 0, 'reward_touch_puck': 0.0, 'reward_puck_direction': 2.3194722831249237e-06}\n",
      "{'winner': 0, 'reward_closeness_to_puck': 0, 'reward_touch_puck': 0.0, 'reward_puck_direction': 2.3171529173851016e-06}\n",
      "{'winner': 0, 'reward_closeness_to_puck': 0, 'reward_touch_puck': 0.0, 'reward_puck_direction': 2.314835786819458e-06}\n",
      "{'winner': 0, 'reward_closeness_to_puck': 0, 'reward_touch_puck': 0.0, 'reward_puck_direction': 2.312520891427994e-06}\n",
      "{'winner': 0, 'reward_closeness_to_puck': 0, 'reward_touch_puck': 0.0, 'reward_puck_direction': 2.3102084174752235e-06}\n",
      "{'winner': 0, 'reward_closeness_to_puck': 0, 'reward_touch_puck': 0.0, 'reward_puck_direction': 2.3078981786966324e-06}\n",
      "{'winner': 0, 'reward_closeness_to_puck': 0, 'reward_touch_puck': 0.0, 'reward_puck_direction': 2.305590361356735e-06}\n",
      "{'winner': 0, 'reward_closeness_to_puck': 0, 'reward_touch_puck': 0.0, 'reward_puck_direction': 2.3032847791910174e-06}\n",
      "{'winner': 0, 'reward_closeness_to_puck': 0, 'reward_touch_puck': 0.0, 'reward_puck_direction': 2.3009814321994784e-06}\n",
      "{'winner': 0, 'reward_closeness_to_puck': 0, 'reward_touch_puck': 0.0, 'reward_puck_direction': 2.2986805066466333e-06}\n",
      "{'winner': 0, 'reward_closeness_to_puck': 0, 'reward_touch_puck': 0.0, 'reward_puck_direction': 2.296381816267967e-06}\n",
      "{'winner': 0, 'reward_closeness_to_puck': 0, 'reward_touch_puck': 0.0, 'reward_puck_direction': 2.2940855473279953e-06}\n",
      "{'winner': 0, 'reward_closeness_to_puck': 0, 'reward_touch_puck': 0.0, 'reward_puck_direction': 2.2917915135622027e-06}\n",
      "{'winner': 0, 'reward_closeness_to_puck': 0, 'reward_touch_puck': 0.0, 'reward_puck_direction': 2.2894997149705887e-06}\n",
      "{'winner': 0, 'reward_closeness_to_puck': 0, 'reward_touch_puck': 0.0, 'reward_puck_direction': 2.287210337817669e-06}\n",
      "{'winner': 0, 'reward_closeness_to_puck': 0, 'reward_touch_puck': 0.0, 'reward_puck_direction': 2.2849231958389284e-06}\n",
      "{'winner': 0, 'reward_closeness_to_puck': 0, 'reward_touch_puck': 0.0, 'reward_puck_direction': 2.2826382890343665e-06}\n",
      "{'winner': 0, 'reward_closeness_to_puck': 0, 'reward_touch_puck': 0.0, 'reward_puck_direction': 2.2803556174039844e-06}\n",
      "{'winner': 0, 'reward_closeness_to_puck': 0, 'reward_touch_puck': 0.0, 'reward_puck_direction': 2.2780753672122956e-06}\n",
      "{'winner': 0, 'reward_closeness_to_puck': 0, 'reward_touch_puck': 0.0, 'reward_puck_direction': 2.2757973521947863e-06}\n",
      "{'winner': 0, 'reward_closeness_to_puck': 0, 'reward_touch_puck': 0.0, 'reward_puck_direction': 2.273521572351456e-06}\n",
      "{'winner': 0, 'reward_closeness_to_puck': 0, 'reward_touch_puck': 0.0, 'reward_puck_direction': 2.2712480276823043e-06}\n",
      "{'winner': 0, 'reward_closeness_to_puck': 0, 'reward_touch_puck': 0.0, 'reward_puck_direction': 2.268976718187332e-06}\n",
      "{'winner': 0, 'reward_closeness_to_puck': 0, 'reward_touch_puck': 0.0, 'reward_puck_direction': 2.266707830131054e-06}\n",
      "{'winner': 0, 'reward_closeness_to_puck': 0, 'reward_touch_puck': 0.0, 'reward_puck_direction': 2.264441177248955e-06}\n",
      "{'winner': 0, 'reward_closeness_to_puck': 0, 'reward_touch_puck': 0.0, 'reward_puck_direction': 2.262176759541035e-06}\n",
      "{'winner': 0, 'reward_closeness_to_puck': 0, 'reward_touch_puck': 0.0, 'reward_puck_direction': 2.259914577007294e-06}\n",
      "{'winner': 0, 'reward_closeness_to_puck': 0, 'reward_touch_puck': 0.0, 'reward_puck_direction': 2.257654629647732e-06}\n",
      "{'winner': 0, 'reward_closeness_to_puck': 0, 'reward_touch_puck': 0.0, 'reward_puck_direction': 2.255396917462349e-06}\n",
      "{'winner': 0, 'reward_closeness_to_puck': 0, 'reward_touch_puck': 0.0, 'reward_puck_direction': 2.2531416267156603e-06}\n",
      "{'winner': 0, 'reward_closeness_to_puck': 0, 'reward_touch_puck': 0.0, 'reward_puck_direction': 2.2508885711431503e-06}\n",
      "{'winner': 0, 'reward_closeness_to_puck': 0, 'reward_touch_puck': 0.0, 'reward_puck_direction': 2.2486377507448197e-06}\n",
      "{'winner': 0, 'reward_closeness_to_puck': 0, 'reward_touch_puck': 0.0, 'reward_puck_direction': 2.246389165520668e-06}\n",
      "{'winner': 0, 'reward_closeness_to_puck': 0, 'reward_touch_puck': 0.0, 'reward_puck_direction': 2.2441428154706956e-06}\n",
      "{'winner': 0, 'reward_closeness_to_puck': 0, 'reward_touch_puck': 0.0, 'reward_puck_direction': 2.241898700594902e-06}\n",
      "{'winner': 0, 'reward_closeness_to_puck': 0, 'reward_touch_puck': 0.0, 'reward_puck_direction': 2.2396568208932877e-06}\n",
      "{'winner': 0, 'reward_closeness_to_puck': 0, 'reward_touch_puck': 0.0, 'reward_puck_direction': 2.2374171763658526e-06}\n",
      "{'winner': 0, 'reward_closeness_to_puck': 0, 'reward_touch_puck': 0.0, 'reward_puck_direction': 2.2351797670125964e-06}\n",
      "{'winner': 0, 'reward_closeness_to_puck': 0, 'reward_touch_puck': 0.0, 'reward_puck_direction': 2.232944592833519e-06}\n",
      "{'winner': 0, 'reward_closeness_to_puck': 0, 'reward_touch_puck': 0.0, 'reward_puck_direction': 2.230711653828621e-06}\n",
      "{'winner': 0, 'reward_closeness_to_puck': 0, 'reward_touch_puck': 0.0, 'reward_puck_direction': 2.228480949997902e-06}\n",
      "{'winner': 0, 'reward_closeness_to_puck': 0, 'reward_touch_puck': 0.0, 'reward_puck_direction': 2.226252481341362e-06}\n",
      "{'winner': 0, 'reward_closeness_to_puck': 0, 'reward_touch_puck': 0.0, 'reward_puck_direction': 2.2240262478590013e-06}\n"
     ]
    },
    {
     "name": "stdout",
     "output_type": "stream",
     "text": [
      "{'winner': 0, 'reward_closeness_to_puck': 0, 'reward_touch_puck': 0.0, 'reward_puck_direction': 2.2218022495508197e-06}\n",
      "{'winner': 0, 'reward_closeness_to_puck': 0, 'reward_touch_puck': 0.0, 'reward_puck_direction': 2.219580486416817e-06}\n",
      "{'winner': 0, 'reward_closeness_to_puck': 0, 'reward_touch_puck': 0.0, 'reward_puck_direction': 2.217360958456993e-06}\n",
      "{'winner': 0, 'reward_closeness_to_puck': 0, 'reward_touch_puck': 0.0, 'reward_puck_direction': 2.2151436656713487e-06}\n",
      "{'winner': 0, 'reward_closeness_to_puck': 0, 'reward_touch_puck': 0.0, 'reward_puck_direction': 2.212928608059883e-06}\n",
      "{'winner': 0, 'reward_closeness_to_puck': 0, 'reward_touch_puck': 0.0, 'reward_puck_direction': 2.210715785622597e-06}\n",
      "{'winner': 0, 'reward_closeness_to_puck': 0, 'reward_touch_puck': 0.0, 'reward_puck_direction': 2.2085050120949745e-06}\n",
      "{'winner': 0, 'reward_closeness_to_puck': 0, 'reward_touch_puck': 0.0, 'reward_puck_direction': 2.2062964737415314e-06}\n",
      "{'winner': 0, 'reward_closeness_to_puck': 0, 'reward_touch_puck': 0.0, 'reward_puck_direction': 2.2040901705622676e-06}\n",
      "{'winner': 0, 'reward_closeness_to_puck': 0, 'reward_touch_puck': 0.0, 'reward_puck_direction': 2.2018861025571823e-06}\n",
      "{'winner': 0, 'reward_closeness_to_puck': 0, 'reward_touch_puck': 0.0, 'reward_puck_direction': 2.1996842697262764e-06}\n",
      "{'winner': 0, 'reward_closeness_to_puck': 0, 'reward_touch_puck': 0.0, 'reward_puck_direction': 2.1974846720695495e-06}\n",
      "{'winner': 0, 'reward_closeness_to_puck': 0, 'reward_touch_puck': 0.0, 'reward_puck_direction': 2.195287123322487e-06}\n",
      "{'winner': 0, 'reward_closeness_to_puck': 0, 'reward_touch_puck': 0.0, 'reward_puck_direction': 2.1930918097496035e-06}\n",
      "{'winner': 0, 'reward_closeness_to_puck': 0, 'reward_touch_puck': 0.0, 'reward_puck_direction': 6.686130538582802e-07}\n",
      "{'winner': 0, 'reward_closeness_to_puck': 0, 'reward_touch_puck': 0.0, 'reward_puck_direction': 6.679444573819638e-07}\n",
      "{'winner': 0, 'reward_closeness_to_puck': 0, 'reward_touch_puck': 0.0, 'reward_puck_direction': 6.672765128314495e-07}\n",
      "{'winner': 0, 'reward_closeness_to_puck': 0, 'reward_touch_puck': 0.0, 'reward_puck_direction': 6.666092667728663e-07}\n",
      "{'winner': 0, 'reward_closeness_to_puck': 0, 'reward_touch_puck': 0.0, 'reward_puck_direction': 6.659426726400853e-07}\n",
      "{'winner': 0, 'reward_closeness_to_puck': 0, 'reward_touch_puck': 0.0, 'reward_puck_direction': 6.652767304331065e-07}\n",
      "{'winner': 0, 'reward_closeness_to_puck': 0, 'reward_touch_puck': 0.0, 'reward_puck_direction': 6.646114401519299e-07}\n",
      "{'winner': 0, 'reward_closeness_to_puck': 0, 'reward_touch_puck': 0.0, 'reward_puck_direction': 6.639468483626843e-07}\n",
      "{'winner': 0, 'reward_closeness_to_puck': 0, 'reward_touch_puck': 0.0, 'reward_puck_direction': 6.632829084992409e-07}\n",
      "{'winner': 0, 'reward_closeness_to_puck': 0, 'reward_touch_puck': 0.0, 'reward_puck_direction': 6.626196205615997e-07}\n",
      "{'winner': 0, 'reward_closeness_to_puck': 0, 'reward_touch_puck': 0.0, 'reward_puck_direction': 6.619570311158896e-07}\n",
      "{'winner': 0, 'reward_closeness_to_puck': 0, 'reward_touch_puck': 0.0, 'reward_puck_direction': 6.612950935959816e-07}\n",
      "{'winner': 0, 'reward_closeness_to_puck': 0, 'reward_touch_puck': 0.0, 'reward_puck_direction': 6.606338080018759e-07}\n",
      "{'winner': 0, 'reward_closeness_to_puck': 0, 'reward_touch_puck': 0.0, 'reward_puck_direction': 6.599731743335724e-07}\n",
      "{'winner': 0, 'reward_closeness_to_puck': 0, 'reward_touch_puck': 0.0, 'reward_puck_direction': 6.593131925910711e-07}\n",
      "{'winner': 0, 'reward_closeness_to_puck': 0, 'reward_touch_puck': 0.0, 'reward_puck_direction': 6.586539093405008e-07}\n",
      "{'winner': 0, 'reward_closeness_to_puck': 0, 'reward_touch_puck': 0.0, 'reward_puck_direction': 6.579952780157328e-07}\n",
      "{'winner': 0, 'reward_closeness_to_puck': 0, 'reward_touch_puck': 0.0, 'reward_puck_direction': 6.57337298616767e-07}\n",
      "{'winner': 0, 'reward_closeness_to_puck': 0, 'reward_touch_puck': 0.0, 'reward_puck_direction': 6.566799711436034e-07}\n",
      "{'winner': 0, 'reward_closeness_to_puck': 0, 'reward_touch_puck': 0.0, 'reward_puck_direction': 6.56023295596242e-07}\n",
      "{'winner': 0, 'reward_closeness_to_puck': 0, 'reward_touch_puck': 0.0, 'reward_puck_direction': 6.553672719746828e-07}\n",
      "{'winner': 0, 'reward_closeness_to_puck': 0, 'reward_touch_puck': 0.0, 'reward_puck_direction': 6.54711900278926e-07}\n",
      "{'winner': 0, 'reward_closeness_to_puck': 0, 'reward_touch_puck': 0.0, 'reward_puck_direction': 6.540571805089712e-07}\n",
      "{'winner': 0, 'reward_closeness_to_puck': 0, 'reward_touch_puck': 0.0, 'reward_puck_direction': 6.534031126648188e-07}\n",
      "{'winner': 0, 'reward_closeness_to_puck': 0, 'reward_touch_puck': 0.0, 'reward_puck_direction': 6.527496967464686e-07}\n",
      "{'winner': 0, 'reward_closeness_to_puck': 0, 'reward_touch_puck': 0.0, 'reward_puck_direction': 6.520969327539206e-07}\n",
      "{'winner': 0, 'reward_closeness_to_puck': 0, 'reward_touch_puck': 0.0, 'reward_puck_direction': 6.514448672533036e-07}\n",
      "{'winner': 0, 'reward_closeness_to_puck': 0, 'reward_touch_puck': 0.0, 'reward_puck_direction': 6.507934536784888e-07}\n",
      "{'winner': 0, 'reward_closeness_to_puck': 0, 'reward_touch_puck': 0.0, 'reward_puck_direction': 6.501426454633475e-07}\n",
      "{'winner': 0, 'reward_closeness_to_puck': 0, 'reward_touch_puck': 0.0, 'reward_puck_direction': 6.494924891740084e-07}\n",
      "{'winner': 0, 'reward_closeness_to_puck': 0, 'reward_touch_puck': 0.0, 'reward_puck_direction': 6.488429848104715e-07}\n",
      "{'winner': 0, 'reward_closeness_to_puck': 0, 'reward_touch_puck': 0.0, 'reward_puck_direction': 6.481941323727369e-07}\n"
     ]
    }
   ],
   "source": [
    "obs = env.reset()\n",
    "time.sleep(1)\n",
    "obs_agent2 = env.obs_agent_two()\n",
    "for _ in range(6000):\n",
    "    env.render()\n",
    "    a1 = player1.act(obs)\n",
    "    a2 = player2.act(obs_agent2)\n",
    "    obs, r, d, info = env.step(np.hstack([a1,a2]))    \n",
    "    obs_agent2 = env.obs_agent_two()\n",
    "    print (info)\n",
    "    if d: break"
   ]
  },
  {
   "cell_type": "code",
   "execution_count": null,
   "metadata": {
    "collapsed": true
   },
   "outputs": [],
   "source": []
  }
 ],
 "metadata": {
  "kernelspec": {
   "display_name": "Python 3",
   "language": "python",
   "name": "python3"
  },
  "language_info": {
   "codemirror_mode": {
    "name": "ipython",
    "version": 3
   },
   "file_extension": ".py",
   "mimetype": "text/x-python",
   "name": "python",
   "nbconvert_exporter": "python",
   "pygments_lexer": "ipython3",
   "version": "3.6.3"
  },
  "toc": {
   "base_numbering": 1,
   "nav_menu": {},
   "number_sections": true,
   "sideBar": true,
   "skip_h1_title": false,
   "title_cell": "Table of Contents",
   "title_sidebar": "Contents",
   "toc_cell": false,
   "toc_position": {},
   "toc_section_display": true,
   "toc_window_display": false
  }
 },
 "nbformat": 4,
 "nbformat_minor": 2
}
